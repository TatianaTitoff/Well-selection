{
 "cells": [
  {
   "cell_type": "markdown",
   "metadata": {},
   "source": [
    "# Выбор локации для скважины"
   ]
  },
  {
   "cell_type": "markdown",
   "metadata": {},
   "source": [
    "Допустим, что мы работаем в добывающей компании «ГлавРосГосНефть». Нужно решить, где бурить новую скважину.\n",
    "\n",
    "Нам предоставлены пробы нефти в трёх регионах: в каждом 10 000 месторождений, где измерили качество нефти и объём её запасов. Нужно постройить модель машинного обучения, которая поможет определить регион, где добыча принесёт наибольшую прибыль. Проанализируем возможную прибыль и риски техникой *Bootstrap.*\n",
    "\n",
    "Шаги для выбора локации:\n",
    "\n",
    "- В избранном регионе ищут месторождения, для каждого определяют значения признаков;\n",
    "- Строят модель и оценивают объём запасов;\n",
    "- Выбирают месторождения с самым высокими оценками значений. Количество месторождений зависит от бюджета компании и стоимости разработки одной скважины;\n",
    "- Прибыль равна суммарной прибыли отобранных месторождений."
   ]
  },
  {
   "cell_type": "markdown",
   "metadata": {},
   "source": [
    "## Описание данных\n",
    "\n",
    "id — уникальный идентификатор скважины;\n",
    "\n",
    "f0, f1, f2 — три признака точек (неважно, что они означают, но сами признаки значимы);\n",
    "\n",
    "product — объём запасов в скважине (тыс. баррелей).\n",
    "\n",
    "Условия задачи:\n",
    "\n",
    "Для обучения модели подходит только линейная регрессия (остальные — недостаточно предсказуемые).\n",
    "\n",
    "При разведке региона исследуют 500 точек, из которых с помощью машинного обучения выбирают 200 лучших для разработки.\n",
    "\n",
    "Бюджет на разработку скважин в регионе — 10 млрд рублей.\n",
    "\n",
    "При нынешних ценах один баррель сырья приносит 450 рублей дохода. Доход с каждой единицы продукта составляет 450 тыс. рублей, поскольку объём указан в тысячах баррелей.\n",
    "\n",
    "После оценки рисков нужно оставить лишь те регионы, в которых вероятность убытков меньше 2.5%. Среди них выбирают регион с наибольшей средней прибылью.\n",
    "\n",
    "Данные синтетические: детали контрактов и характеристики месторождений не разглашаются."
   ]
  },
  {
   "cell_type": "markdown",
   "metadata": {},
   "source": [
    "## Загрузка и подготовка данных"
   ]
  },
  {
   "cell_type": "markdown",
   "metadata": {},
   "source": [
    "Импортируем необходимые для работы библиотеки и метрики."
   ]
  },
  {
   "cell_type": "code",
   "execution_count": 1,
   "metadata": {},
   "outputs": [],
   "source": [
    "import pandas as pd\n",
    "from sklearn.model_selection import train_test_split\n",
    "from sklearn.linear_model import LinearRegression\n",
    "from sklearn.preprocessing import StandardScaler\n",
    "from sklearn.metrics import accuracy_score\n",
    "from scipy import stats as st\n",
    "import numpy as np\n",
    "from sklearn.metrics import mean_squared_error, r2_score\n",
    "from tqdm.notebook import tqdm\n",
    "import matplotlib.pyplot as plt\n",
    "import seaborn as sns\n",
    "from sklearn.utils import shuffle\n",
    "from sklearn.preprocessing import OrdinalEncoder "
   ]
  },
  {
   "cell_type": "markdown",
   "metadata": {},
   "source": [
    "Загружаем данные."
   ]
  },
  {
   "cell_type": "code",
   "execution_count": 2,
   "metadata": {},
   "outputs": [],
   "source": [
    "try:\n",
    "    data_0 = pd.read_csv('/datasets/geo_data_0.csv')\n",
    "    data_1 = pd.read_csv('/datasets/geo_data_1.csv')\n",
    "    data_2 = pd.read_csv('/datasets/geo_data_2.csv')\n",
    "except:\n",
    "    0"
   ]
  },
  {
   "cell_type": "markdown",
   "metadata": {},
   "source": [
    "Ознакомимся с данными геологоразведки в 1 регионе."
   ]
  },
  {
   "cell_type": "code",
   "execution_count": 3,
   "metadata": {},
   "outputs": [
    {
     "data": {
      "text/html": [
       "<div>\n",
       "<style scoped>\n",
       "    .dataframe tbody tr th:only-of-type {\n",
       "        vertical-align: middle;\n",
       "    }\n",
       "\n",
       "    .dataframe tbody tr th {\n",
       "        vertical-align: top;\n",
       "    }\n",
       "\n",
       "    .dataframe thead th {\n",
       "        text-align: right;\n",
       "    }\n",
       "</style>\n",
       "<table border=\"1\" class=\"dataframe\">\n",
       "  <thead>\n",
       "    <tr style=\"text-align: right;\">\n",
       "      <th></th>\n",
       "      <th>id</th>\n",
       "      <th>f0</th>\n",
       "      <th>f1</th>\n",
       "      <th>f2</th>\n",
       "      <th>product</th>\n",
       "    </tr>\n",
       "  </thead>\n",
       "  <tbody>\n",
       "    <tr>\n",
       "      <th>0</th>\n",
       "      <td>txEyH</td>\n",
       "      <td>0.705745</td>\n",
       "      <td>-0.497823</td>\n",
       "      <td>1.221170</td>\n",
       "      <td>105.280062</td>\n",
       "    </tr>\n",
       "    <tr>\n",
       "      <th>1</th>\n",
       "      <td>2acmU</td>\n",
       "      <td>1.334711</td>\n",
       "      <td>-0.340164</td>\n",
       "      <td>4.365080</td>\n",
       "      <td>73.037750</td>\n",
       "    </tr>\n",
       "    <tr>\n",
       "      <th>2</th>\n",
       "      <td>409Wp</td>\n",
       "      <td>1.022732</td>\n",
       "      <td>0.151990</td>\n",
       "      <td>1.419926</td>\n",
       "      <td>85.265647</td>\n",
       "    </tr>\n",
       "    <tr>\n",
       "      <th>3</th>\n",
       "      <td>iJLyR</td>\n",
       "      <td>-0.032172</td>\n",
       "      <td>0.139033</td>\n",
       "      <td>2.978566</td>\n",
       "      <td>168.620776</td>\n",
       "    </tr>\n",
       "    <tr>\n",
       "      <th>4</th>\n",
       "      <td>Xdl7t</td>\n",
       "      <td>1.988431</td>\n",
       "      <td>0.155413</td>\n",
       "      <td>4.751769</td>\n",
       "      <td>154.036647</td>\n",
       "    </tr>\n",
       "  </tbody>\n",
       "</table>\n",
       "</div>"
      ],
      "text/plain": [
       "      id        f0        f1        f2     product\n",
       "0  txEyH  0.705745 -0.497823  1.221170  105.280062\n",
       "1  2acmU  1.334711 -0.340164  4.365080   73.037750\n",
       "2  409Wp  1.022732  0.151990  1.419926   85.265647\n",
       "3  iJLyR -0.032172  0.139033  2.978566  168.620776\n",
       "4  Xdl7t  1.988431  0.155413  4.751769  154.036647"
      ]
     },
     "execution_count": 3,
     "metadata": {},
     "output_type": "execute_result"
    }
   ],
   "source": [
    "data_0.head()"
   ]
  },
  {
   "cell_type": "code",
   "execution_count": 4,
   "metadata": {},
   "outputs": [
    {
     "name": "stdout",
     "output_type": "stream",
     "text": [
      "<class 'pandas.core.frame.DataFrame'>\n",
      "RangeIndex: 100000 entries, 0 to 99999\n",
      "Data columns (total 5 columns):\n",
      " #   Column   Non-Null Count   Dtype  \n",
      "---  ------   --------------   -----  \n",
      " 0   id       100000 non-null  object \n",
      " 1   f0       100000 non-null  float64\n",
      " 2   f1       100000 non-null  float64\n",
      " 3   f2       100000 non-null  float64\n",
      " 4   product  100000 non-null  float64\n",
      "dtypes: float64(4), object(1)\n",
      "memory usage: 3.8+ MB\n"
     ]
    }
   ],
   "source": [
    "data_0.info()"
   ]
  },
  {
   "cell_type": "code",
   "execution_count": 5,
   "metadata": {},
   "outputs": [
    {
     "data": {
      "text/html": [
       "<div>\n",
       "<style scoped>\n",
       "    .dataframe tbody tr th:only-of-type {\n",
       "        vertical-align: middle;\n",
       "    }\n",
       "\n",
       "    .dataframe tbody tr th {\n",
       "        vertical-align: top;\n",
       "    }\n",
       "\n",
       "    .dataframe thead th {\n",
       "        text-align: right;\n",
       "    }\n",
       "</style>\n",
       "<table border=\"1\" class=\"dataframe\">\n",
       "  <thead>\n",
       "    <tr style=\"text-align: right;\">\n",
       "      <th></th>\n",
       "      <th>f0</th>\n",
       "      <th>f1</th>\n",
       "      <th>f2</th>\n",
       "      <th>product</th>\n",
       "    </tr>\n",
       "  </thead>\n",
       "  <tbody>\n",
       "    <tr>\n",
       "      <th>count</th>\n",
       "      <td>100000.000000</td>\n",
       "      <td>100000.000000</td>\n",
       "      <td>100000.000000</td>\n",
       "      <td>100000.000000</td>\n",
       "    </tr>\n",
       "    <tr>\n",
       "      <th>mean</th>\n",
       "      <td>0.500419</td>\n",
       "      <td>0.250143</td>\n",
       "      <td>2.502647</td>\n",
       "      <td>92.500000</td>\n",
       "    </tr>\n",
       "    <tr>\n",
       "      <th>std</th>\n",
       "      <td>0.871832</td>\n",
       "      <td>0.504433</td>\n",
       "      <td>3.248248</td>\n",
       "      <td>44.288691</td>\n",
       "    </tr>\n",
       "    <tr>\n",
       "      <th>min</th>\n",
       "      <td>-1.408605</td>\n",
       "      <td>-0.848218</td>\n",
       "      <td>-12.088328</td>\n",
       "      <td>0.000000</td>\n",
       "    </tr>\n",
       "    <tr>\n",
       "      <th>25%</th>\n",
       "      <td>-0.072580</td>\n",
       "      <td>-0.200881</td>\n",
       "      <td>0.287748</td>\n",
       "      <td>56.497507</td>\n",
       "    </tr>\n",
       "    <tr>\n",
       "      <th>50%</th>\n",
       "      <td>0.502360</td>\n",
       "      <td>0.250252</td>\n",
       "      <td>2.515969</td>\n",
       "      <td>91.849972</td>\n",
       "    </tr>\n",
       "    <tr>\n",
       "      <th>75%</th>\n",
       "      <td>1.073581</td>\n",
       "      <td>0.700646</td>\n",
       "      <td>4.715088</td>\n",
       "      <td>128.564089</td>\n",
       "    </tr>\n",
       "    <tr>\n",
       "      <th>max</th>\n",
       "      <td>2.362331</td>\n",
       "      <td>1.343769</td>\n",
       "      <td>16.003790</td>\n",
       "      <td>185.364347</td>\n",
       "    </tr>\n",
       "  </tbody>\n",
       "</table>\n",
       "</div>"
      ],
      "text/plain": [
       "                  f0             f1             f2        product\n",
       "count  100000.000000  100000.000000  100000.000000  100000.000000\n",
       "mean        0.500419       0.250143       2.502647      92.500000\n",
       "std         0.871832       0.504433       3.248248      44.288691\n",
       "min        -1.408605      -0.848218     -12.088328       0.000000\n",
       "25%        -0.072580      -0.200881       0.287748      56.497507\n",
       "50%         0.502360       0.250252       2.515969      91.849972\n",
       "75%         1.073581       0.700646       4.715088     128.564089\n",
       "max         2.362331       1.343769      16.003790     185.364347"
      ]
     },
     "execution_count": 5,
     "metadata": {},
     "output_type": "execute_result"
    }
   ],
   "source": [
    "data_0.describe()"
   ]
  },
  {
   "cell_type": "code",
   "execution_count": 6,
   "metadata": {},
   "outputs": [
    {
     "data": {
      "text/html": [
       "<div>\n",
       "<style scoped>\n",
       "    .dataframe tbody tr th:only-of-type {\n",
       "        vertical-align: middle;\n",
       "    }\n",
       "\n",
       "    .dataframe tbody tr th {\n",
       "        vertical-align: top;\n",
       "    }\n",
       "\n",
       "    .dataframe thead th {\n",
       "        text-align: right;\n",
       "    }\n",
       "</style>\n",
       "<table border=\"1\" class=\"dataframe\">\n",
       "  <thead>\n",
       "    <tr style=\"text-align: right;\">\n",
       "      <th></th>\n",
       "      <th>f0</th>\n",
       "      <th>f1</th>\n",
       "      <th>f2</th>\n",
       "      <th>product</th>\n",
       "    </tr>\n",
       "  </thead>\n",
       "  <tbody>\n",
       "    <tr>\n",
       "      <th>f0</th>\n",
       "      <td>1.000000</td>\n",
       "      <td>-0.440723</td>\n",
       "      <td>-0.003153</td>\n",
       "      <td>0.143536</td>\n",
       "    </tr>\n",
       "    <tr>\n",
       "      <th>f1</th>\n",
       "      <td>-0.440723</td>\n",
       "      <td>1.000000</td>\n",
       "      <td>0.001724</td>\n",
       "      <td>-0.192356</td>\n",
       "    </tr>\n",
       "    <tr>\n",
       "      <th>f2</th>\n",
       "      <td>-0.003153</td>\n",
       "      <td>0.001724</td>\n",
       "      <td>1.000000</td>\n",
       "      <td>0.483663</td>\n",
       "    </tr>\n",
       "    <tr>\n",
       "      <th>product</th>\n",
       "      <td>0.143536</td>\n",
       "      <td>-0.192356</td>\n",
       "      <td>0.483663</td>\n",
       "      <td>1.000000</td>\n",
       "    </tr>\n",
       "  </tbody>\n",
       "</table>\n",
       "</div>"
      ],
      "text/plain": [
       "               f0        f1        f2   product\n",
       "f0       1.000000 -0.440723 -0.003153  0.143536\n",
       "f1      -0.440723  1.000000  0.001724 -0.192356\n",
       "f2      -0.003153  0.001724  1.000000  0.483663\n",
       "product  0.143536 -0.192356  0.483663  1.000000"
      ]
     },
     "execution_count": 6,
     "metadata": {},
     "output_type": "execute_result"
    }
   ],
   "source": [
    "data_0.corr()"
   ]
  },
  {
   "cell_type": "markdown",
   "metadata": {},
   "source": [
    "Ознакомимся с данными геологоразведки во 2 регионе."
   ]
  },
  {
   "cell_type": "code",
   "execution_count": 7,
   "metadata": {},
   "outputs": [
    {
     "data": {
      "text/html": [
       "<div>\n",
       "<style scoped>\n",
       "    .dataframe tbody tr th:only-of-type {\n",
       "        vertical-align: middle;\n",
       "    }\n",
       "\n",
       "    .dataframe tbody tr th {\n",
       "        vertical-align: top;\n",
       "    }\n",
       "\n",
       "    .dataframe thead th {\n",
       "        text-align: right;\n",
       "    }\n",
       "</style>\n",
       "<table border=\"1\" class=\"dataframe\">\n",
       "  <thead>\n",
       "    <tr style=\"text-align: right;\">\n",
       "      <th></th>\n",
       "      <th>id</th>\n",
       "      <th>f0</th>\n",
       "      <th>f1</th>\n",
       "      <th>f2</th>\n",
       "      <th>product</th>\n",
       "    </tr>\n",
       "  </thead>\n",
       "  <tbody>\n",
       "    <tr>\n",
       "      <th>0</th>\n",
       "      <td>kBEdx</td>\n",
       "      <td>-15.001348</td>\n",
       "      <td>-8.276000</td>\n",
       "      <td>-0.005876</td>\n",
       "      <td>3.179103</td>\n",
       "    </tr>\n",
       "    <tr>\n",
       "      <th>1</th>\n",
       "      <td>62mP7</td>\n",
       "      <td>14.272088</td>\n",
       "      <td>-3.475083</td>\n",
       "      <td>0.999183</td>\n",
       "      <td>26.953261</td>\n",
       "    </tr>\n",
       "    <tr>\n",
       "      <th>2</th>\n",
       "      <td>vyE1P</td>\n",
       "      <td>6.263187</td>\n",
       "      <td>-5.948386</td>\n",
       "      <td>5.001160</td>\n",
       "      <td>134.766305</td>\n",
       "    </tr>\n",
       "    <tr>\n",
       "      <th>3</th>\n",
       "      <td>KcrkZ</td>\n",
       "      <td>-13.081196</td>\n",
       "      <td>-11.506057</td>\n",
       "      <td>4.999415</td>\n",
       "      <td>137.945408</td>\n",
       "    </tr>\n",
       "    <tr>\n",
       "      <th>4</th>\n",
       "      <td>AHL4O</td>\n",
       "      <td>12.702195</td>\n",
       "      <td>-8.147433</td>\n",
       "      <td>5.004363</td>\n",
       "      <td>134.766305</td>\n",
       "    </tr>\n",
       "  </tbody>\n",
       "</table>\n",
       "</div>"
      ],
      "text/plain": [
       "      id         f0         f1        f2     product\n",
       "0  kBEdx -15.001348  -8.276000 -0.005876    3.179103\n",
       "1  62mP7  14.272088  -3.475083  0.999183   26.953261\n",
       "2  vyE1P   6.263187  -5.948386  5.001160  134.766305\n",
       "3  KcrkZ -13.081196 -11.506057  4.999415  137.945408\n",
       "4  AHL4O  12.702195  -8.147433  5.004363  134.766305"
      ]
     },
     "execution_count": 7,
     "metadata": {},
     "output_type": "execute_result"
    }
   ],
   "source": [
    "data_1.head()"
   ]
  },
  {
   "cell_type": "code",
   "execution_count": 8,
   "metadata": {},
   "outputs": [
    {
     "name": "stdout",
     "output_type": "stream",
     "text": [
      "<class 'pandas.core.frame.DataFrame'>\n",
      "RangeIndex: 100000 entries, 0 to 99999\n",
      "Data columns (total 5 columns):\n",
      " #   Column   Non-Null Count   Dtype  \n",
      "---  ------   --------------   -----  \n",
      " 0   id       100000 non-null  object \n",
      " 1   f0       100000 non-null  float64\n",
      " 2   f1       100000 non-null  float64\n",
      " 3   f2       100000 non-null  float64\n",
      " 4   product  100000 non-null  float64\n",
      "dtypes: float64(4), object(1)\n",
      "memory usage: 3.8+ MB\n"
     ]
    }
   ],
   "source": [
    "data_1.info()"
   ]
  },
  {
   "cell_type": "code",
   "execution_count": 9,
   "metadata": {},
   "outputs": [
    {
     "data": {
      "text/html": [
       "<div>\n",
       "<style scoped>\n",
       "    .dataframe tbody tr th:only-of-type {\n",
       "        vertical-align: middle;\n",
       "    }\n",
       "\n",
       "    .dataframe tbody tr th {\n",
       "        vertical-align: top;\n",
       "    }\n",
       "\n",
       "    .dataframe thead th {\n",
       "        text-align: right;\n",
       "    }\n",
       "</style>\n",
       "<table border=\"1\" class=\"dataframe\">\n",
       "  <thead>\n",
       "    <tr style=\"text-align: right;\">\n",
       "      <th></th>\n",
       "      <th>f0</th>\n",
       "      <th>f1</th>\n",
       "      <th>f2</th>\n",
       "      <th>product</th>\n",
       "    </tr>\n",
       "  </thead>\n",
       "  <tbody>\n",
       "    <tr>\n",
       "      <th>count</th>\n",
       "      <td>100000.000000</td>\n",
       "      <td>100000.000000</td>\n",
       "      <td>100000.000000</td>\n",
       "      <td>100000.000000</td>\n",
       "    </tr>\n",
       "    <tr>\n",
       "      <th>mean</th>\n",
       "      <td>1.141296</td>\n",
       "      <td>-4.796579</td>\n",
       "      <td>2.494541</td>\n",
       "      <td>68.825000</td>\n",
       "    </tr>\n",
       "    <tr>\n",
       "      <th>std</th>\n",
       "      <td>8.965932</td>\n",
       "      <td>5.119872</td>\n",
       "      <td>1.703572</td>\n",
       "      <td>45.944423</td>\n",
       "    </tr>\n",
       "    <tr>\n",
       "      <th>min</th>\n",
       "      <td>-31.609576</td>\n",
       "      <td>-26.358598</td>\n",
       "      <td>-0.018144</td>\n",
       "      <td>0.000000</td>\n",
       "    </tr>\n",
       "    <tr>\n",
       "      <th>25%</th>\n",
       "      <td>-6.298551</td>\n",
       "      <td>-8.267985</td>\n",
       "      <td>1.000021</td>\n",
       "      <td>26.953261</td>\n",
       "    </tr>\n",
       "    <tr>\n",
       "      <th>50%</th>\n",
       "      <td>1.153055</td>\n",
       "      <td>-4.813172</td>\n",
       "      <td>2.011479</td>\n",
       "      <td>57.085625</td>\n",
       "    </tr>\n",
       "    <tr>\n",
       "      <th>75%</th>\n",
       "      <td>8.621015</td>\n",
       "      <td>-1.332816</td>\n",
       "      <td>3.999904</td>\n",
       "      <td>107.813044</td>\n",
       "    </tr>\n",
       "    <tr>\n",
       "      <th>max</th>\n",
       "      <td>29.421755</td>\n",
       "      <td>18.734063</td>\n",
       "      <td>5.019721</td>\n",
       "      <td>137.945408</td>\n",
       "    </tr>\n",
       "  </tbody>\n",
       "</table>\n",
       "</div>"
      ],
      "text/plain": [
       "                  f0             f1             f2        product\n",
       "count  100000.000000  100000.000000  100000.000000  100000.000000\n",
       "mean        1.141296      -4.796579       2.494541      68.825000\n",
       "std         8.965932       5.119872       1.703572      45.944423\n",
       "min       -31.609576     -26.358598      -0.018144       0.000000\n",
       "25%        -6.298551      -8.267985       1.000021      26.953261\n",
       "50%         1.153055      -4.813172       2.011479      57.085625\n",
       "75%         8.621015      -1.332816       3.999904     107.813044\n",
       "max        29.421755      18.734063       5.019721     137.945408"
      ]
     },
     "execution_count": 9,
     "metadata": {},
     "output_type": "execute_result"
    }
   ],
   "source": [
    "data_1.describe()"
   ]
  },
  {
   "cell_type": "code",
   "execution_count": 10,
   "metadata": {},
   "outputs": [
    {
     "data": {
      "text/html": [
       "<div>\n",
       "<style scoped>\n",
       "    .dataframe tbody tr th:only-of-type {\n",
       "        vertical-align: middle;\n",
       "    }\n",
       "\n",
       "    .dataframe tbody tr th {\n",
       "        vertical-align: top;\n",
       "    }\n",
       "\n",
       "    .dataframe thead th {\n",
       "        text-align: right;\n",
       "    }\n",
       "</style>\n",
       "<table border=\"1\" class=\"dataframe\">\n",
       "  <thead>\n",
       "    <tr style=\"text-align: right;\">\n",
       "      <th></th>\n",
       "      <th>f0</th>\n",
       "      <th>f1</th>\n",
       "      <th>f2</th>\n",
       "      <th>product</th>\n",
       "    </tr>\n",
       "  </thead>\n",
       "  <tbody>\n",
       "    <tr>\n",
       "      <th>f0</th>\n",
       "      <td>1.000000</td>\n",
       "      <td>0.182287</td>\n",
       "      <td>-0.001777</td>\n",
       "      <td>-0.030491</td>\n",
       "    </tr>\n",
       "    <tr>\n",
       "      <th>f1</th>\n",
       "      <td>0.182287</td>\n",
       "      <td>1.000000</td>\n",
       "      <td>-0.002595</td>\n",
       "      <td>-0.010155</td>\n",
       "    </tr>\n",
       "    <tr>\n",
       "      <th>f2</th>\n",
       "      <td>-0.001777</td>\n",
       "      <td>-0.002595</td>\n",
       "      <td>1.000000</td>\n",
       "      <td>0.999397</td>\n",
       "    </tr>\n",
       "    <tr>\n",
       "      <th>product</th>\n",
       "      <td>-0.030491</td>\n",
       "      <td>-0.010155</td>\n",
       "      <td>0.999397</td>\n",
       "      <td>1.000000</td>\n",
       "    </tr>\n",
       "  </tbody>\n",
       "</table>\n",
       "</div>"
      ],
      "text/plain": [
       "               f0        f1        f2   product\n",
       "f0       1.000000  0.182287 -0.001777 -0.030491\n",
       "f1       0.182287  1.000000 -0.002595 -0.010155\n",
       "f2      -0.001777 -0.002595  1.000000  0.999397\n",
       "product -0.030491 -0.010155  0.999397  1.000000"
      ]
     },
     "execution_count": 10,
     "metadata": {},
     "output_type": "execute_result"
    }
   ],
   "source": [
    "data_1.corr()"
   ]
  },
  {
   "cell_type": "markdown",
   "metadata": {},
   "source": [
    "Ознакомимся с данными геологоразведки в 3 регионе."
   ]
  },
  {
   "cell_type": "code",
   "execution_count": 11,
   "metadata": {},
   "outputs": [
    {
     "data": {
      "text/html": [
       "<div>\n",
       "<style scoped>\n",
       "    .dataframe tbody tr th:only-of-type {\n",
       "        vertical-align: middle;\n",
       "    }\n",
       "\n",
       "    .dataframe tbody tr th {\n",
       "        vertical-align: top;\n",
       "    }\n",
       "\n",
       "    .dataframe thead th {\n",
       "        text-align: right;\n",
       "    }\n",
       "</style>\n",
       "<table border=\"1\" class=\"dataframe\">\n",
       "  <thead>\n",
       "    <tr style=\"text-align: right;\">\n",
       "      <th></th>\n",
       "      <th>id</th>\n",
       "      <th>f0</th>\n",
       "      <th>f1</th>\n",
       "      <th>f2</th>\n",
       "      <th>product</th>\n",
       "    </tr>\n",
       "  </thead>\n",
       "  <tbody>\n",
       "    <tr>\n",
       "      <th>0</th>\n",
       "      <td>fwXo0</td>\n",
       "      <td>-1.146987</td>\n",
       "      <td>0.963328</td>\n",
       "      <td>-0.828965</td>\n",
       "      <td>27.758673</td>\n",
       "    </tr>\n",
       "    <tr>\n",
       "      <th>1</th>\n",
       "      <td>WJtFt</td>\n",
       "      <td>0.262778</td>\n",
       "      <td>0.269839</td>\n",
       "      <td>-2.530187</td>\n",
       "      <td>56.069697</td>\n",
       "    </tr>\n",
       "    <tr>\n",
       "      <th>2</th>\n",
       "      <td>ovLUW</td>\n",
       "      <td>0.194587</td>\n",
       "      <td>0.289035</td>\n",
       "      <td>-5.586433</td>\n",
       "      <td>62.871910</td>\n",
       "    </tr>\n",
       "    <tr>\n",
       "      <th>3</th>\n",
       "      <td>q6cA6</td>\n",
       "      <td>2.236060</td>\n",
       "      <td>-0.553760</td>\n",
       "      <td>0.930038</td>\n",
       "      <td>114.572842</td>\n",
       "    </tr>\n",
       "    <tr>\n",
       "      <th>4</th>\n",
       "      <td>WPMUX</td>\n",
       "      <td>-0.515993</td>\n",
       "      <td>1.716266</td>\n",
       "      <td>5.899011</td>\n",
       "      <td>149.600746</td>\n",
       "    </tr>\n",
       "  </tbody>\n",
       "</table>\n",
       "</div>"
      ],
      "text/plain": [
       "      id        f0        f1        f2     product\n",
       "0  fwXo0 -1.146987  0.963328 -0.828965   27.758673\n",
       "1  WJtFt  0.262778  0.269839 -2.530187   56.069697\n",
       "2  ovLUW  0.194587  0.289035 -5.586433   62.871910\n",
       "3  q6cA6  2.236060 -0.553760  0.930038  114.572842\n",
       "4  WPMUX -0.515993  1.716266  5.899011  149.600746"
      ]
     },
     "execution_count": 11,
     "metadata": {},
     "output_type": "execute_result"
    }
   ],
   "source": [
    "data_2.head()"
   ]
  },
  {
   "cell_type": "code",
   "execution_count": 12,
   "metadata": {},
   "outputs": [
    {
     "name": "stdout",
     "output_type": "stream",
     "text": [
      "<class 'pandas.core.frame.DataFrame'>\n",
      "RangeIndex: 100000 entries, 0 to 99999\n",
      "Data columns (total 5 columns):\n",
      " #   Column   Non-Null Count   Dtype  \n",
      "---  ------   --------------   -----  \n",
      " 0   id       100000 non-null  object \n",
      " 1   f0       100000 non-null  float64\n",
      " 2   f1       100000 non-null  float64\n",
      " 3   f2       100000 non-null  float64\n",
      " 4   product  100000 non-null  float64\n",
      "dtypes: float64(4), object(1)\n",
      "memory usage: 3.8+ MB\n"
     ]
    }
   ],
   "source": [
    "data_2.info()"
   ]
  },
  {
   "cell_type": "code",
   "execution_count": 13,
   "metadata": {},
   "outputs": [
    {
     "data": {
      "text/html": [
       "<div>\n",
       "<style scoped>\n",
       "    .dataframe tbody tr th:only-of-type {\n",
       "        vertical-align: middle;\n",
       "    }\n",
       "\n",
       "    .dataframe tbody tr th {\n",
       "        vertical-align: top;\n",
       "    }\n",
       "\n",
       "    .dataframe thead th {\n",
       "        text-align: right;\n",
       "    }\n",
       "</style>\n",
       "<table border=\"1\" class=\"dataframe\">\n",
       "  <thead>\n",
       "    <tr style=\"text-align: right;\">\n",
       "      <th></th>\n",
       "      <th>f0</th>\n",
       "      <th>f1</th>\n",
       "      <th>f2</th>\n",
       "      <th>product</th>\n",
       "    </tr>\n",
       "  </thead>\n",
       "  <tbody>\n",
       "    <tr>\n",
       "      <th>count</th>\n",
       "      <td>100000.000000</td>\n",
       "      <td>100000.000000</td>\n",
       "      <td>100000.000000</td>\n",
       "      <td>100000.000000</td>\n",
       "    </tr>\n",
       "    <tr>\n",
       "      <th>mean</th>\n",
       "      <td>0.002023</td>\n",
       "      <td>-0.002081</td>\n",
       "      <td>2.495128</td>\n",
       "      <td>95.000000</td>\n",
       "    </tr>\n",
       "    <tr>\n",
       "      <th>std</th>\n",
       "      <td>1.732045</td>\n",
       "      <td>1.730417</td>\n",
       "      <td>3.473445</td>\n",
       "      <td>44.749921</td>\n",
       "    </tr>\n",
       "    <tr>\n",
       "      <th>min</th>\n",
       "      <td>-8.760004</td>\n",
       "      <td>-7.084020</td>\n",
       "      <td>-11.970335</td>\n",
       "      <td>0.000000</td>\n",
       "    </tr>\n",
       "    <tr>\n",
       "      <th>25%</th>\n",
       "      <td>-1.162288</td>\n",
       "      <td>-1.174820</td>\n",
       "      <td>0.130359</td>\n",
       "      <td>59.450441</td>\n",
       "    </tr>\n",
       "    <tr>\n",
       "      <th>50%</th>\n",
       "      <td>0.009424</td>\n",
       "      <td>-0.009482</td>\n",
       "      <td>2.484236</td>\n",
       "      <td>94.925613</td>\n",
       "    </tr>\n",
       "    <tr>\n",
       "      <th>75%</th>\n",
       "      <td>1.158535</td>\n",
       "      <td>1.163678</td>\n",
       "      <td>4.858794</td>\n",
       "      <td>130.595027</td>\n",
       "    </tr>\n",
       "    <tr>\n",
       "      <th>max</th>\n",
       "      <td>7.238262</td>\n",
       "      <td>7.844801</td>\n",
       "      <td>16.739402</td>\n",
       "      <td>190.029838</td>\n",
       "    </tr>\n",
       "  </tbody>\n",
       "</table>\n",
       "</div>"
      ],
      "text/plain": [
       "                  f0             f1             f2        product\n",
       "count  100000.000000  100000.000000  100000.000000  100000.000000\n",
       "mean        0.002023      -0.002081       2.495128      95.000000\n",
       "std         1.732045       1.730417       3.473445      44.749921\n",
       "min        -8.760004      -7.084020     -11.970335       0.000000\n",
       "25%        -1.162288      -1.174820       0.130359      59.450441\n",
       "50%         0.009424      -0.009482       2.484236      94.925613\n",
       "75%         1.158535       1.163678       4.858794     130.595027\n",
       "max         7.238262       7.844801      16.739402     190.029838"
      ]
     },
     "execution_count": 13,
     "metadata": {},
     "output_type": "execute_result"
    }
   ],
   "source": [
    "data_2.describe()"
   ]
  },
  {
   "cell_type": "code",
   "execution_count": 14,
   "metadata": {},
   "outputs": [
    {
     "data": {
      "text/html": [
       "<div>\n",
       "<style scoped>\n",
       "    .dataframe tbody tr th:only-of-type {\n",
       "        vertical-align: middle;\n",
       "    }\n",
       "\n",
       "    .dataframe tbody tr th {\n",
       "        vertical-align: top;\n",
       "    }\n",
       "\n",
       "    .dataframe thead th {\n",
       "        text-align: right;\n",
       "    }\n",
       "</style>\n",
       "<table border=\"1\" class=\"dataframe\">\n",
       "  <thead>\n",
       "    <tr style=\"text-align: right;\">\n",
       "      <th></th>\n",
       "      <th>f0</th>\n",
       "      <th>f1</th>\n",
       "      <th>f2</th>\n",
       "      <th>product</th>\n",
       "    </tr>\n",
       "  </thead>\n",
       "  <tbody>\n",
       "    <tr>\n",
       "      <th>f0</th>\n",
       "      <td>1.000000</td>\n",
       "      <td>0.000528</td>\n",
       "      <td>-0.000448</td>\n",
       "      <td>-0.001987</td>\n",
       "    </tr>\n",
       "    <tr>\n",
       "      <th>f1</th>\n",
       "      <td>0.000528</td>\n",
       "      <td>1.000000</td>\n",
       "      <td>0.000779</td>\n",
       "      <td>-0.001012</td>\n",
       "    </tr>\n",
       "    <tr>\n",
       "      <th>f2</th>\n",
       "      <td>-0.000448</td>\n",
       "      <td>0.000779</td>\n",
       "      <td>1.000000</td>\n",
       "      <td>0.445871</td>\n",
       "    </tr>\n",
       "    <tr>\n",
       "      <th>product</th>\n",
       "      <td>-0.001987</td>\n",
       "      <td>-0.001012</td>\n",
       "      <td>0.445871</td>\n",
       "      <td>1.000000</td>\n",
       "    </tr>\n",
       "  </tbody>\n",
       "</table>\n",
       "</div>"
      ],
      "text/plain": [
       "               f0        f1        f2   product\n",
       "f0       1.000000  0.000528 -0.000448 -0.001987\n",
       "f1       0.000528  1.000000  0.000779 -0.001012\n",
       "f2      -0.000448  0.000779  1.000000  0.445871\n",
       "product -0.001987 -0.001012  0.445871  1.000000"
      ]
     },
     "execution_count": 14,
     "metadata": {},
     "output_type": "execute_result"
    }
   ],
   "source": [
    "data_2.corr()"
   ]
  },
  {
   "cell_type": "markdown",
   "metadata": {},
   "source": [
    "Построим гистаграмму распределения запасов сырья по регионам. "
   ]
  },
  {
   "cell_type": "code",
   "execution_count": 15,
   "metadata": {},
   "outputs": [
    {
     "data": {
      "image/png": "[encoded data removed]",
      "text/plain": [
       "<Figure size 864x432 with 1 Axes>"
      ]
     },
     "metadata": {
      "needs_background": "light"
     },
     "output_type": "display_data"
    }
   ],
   "source": [
    "plt.title('Графики распределения запасов сырья в регионах')\n",
    "\n",
    "data_0['product'].plot(kind='hist',figsize=(12,6),grid=True, legend=True, histtype='step', linewidth=3, label='1 регион')\n",
    "data_1['product'].plot(kind='hist',figsize=(12,6),grid=True, legend=True, histtype='step', linewidth=3, label='2 регион')\n",
    "data_2['product'].plot(kind='hist',figsize=(12,6),grid=True, legend=True, histtype='step', linewidth=3, label='3 регион')\n",
    "\n",
    "plt.xlabel('Распределение данных по запасам сырья в регионах')\n",
    "plt.ylabel('Запасы сырья, тыс.баррелей')\n",
    "plt.show()"
   ]
  },
  {
   "cell_type": "markdown",
   "metadata": {},
   "source": [
    "Мы успешно загрузили данные, импортировали необходимые библиотеки и метрики. \n",
    "Посмотрев информацию о данных, мы отметили, что пропусков не содержится и предобработка не требуется. \n",
    "\n",
    "На гистограмме можем увидеть, что в 1 и 3 регионах запасы сырья получили нормальное распределение, у 2 региона график значительно отличается от нормального распределения, выбиваются самые низкие и самые высокие значения. \n",
    "\n",
    "Также отметим высокую корелляцию (более 0,999) показателя запасов во 2 втором регионе от признака f2, что может оказать влияние на предсказания модели."
   ]
  },
  {
   "cell_type": "markdown",
   "metadata": {},
   "source": [
    "## Обучение и проверка модели"
   ]
  },
  {
   "cell_type": "markdown",
   "metadata": {},
   "source": [
    "Подготовим обучающую и валидационную выборки в соотношениии 75/25. Удалим столбец с индентификатором как неинформативный."
   ]
  },
  {
   "cell_type": "code",
   "execution_count": 16,
   "metadata": {},
   "outputs": [],
   "source": [
    "target_0=data_0['product']\n",
    "features_0=data_0.drop(['product', 'id'], axis=1)\n",
    "\n",
    "target_1=data_1['product']\n",
    "features_1=data_1.drop(['product', 'id'], axis=1)\n",
    "\n",
    "target_2=data_2['product']\n",
    "features_2=data_2.drop(['product', 'id'], axis=1)"
   ]
  },
  {
   "cell_type": "markdown",
   "metadata": {},
   "source": [
    "Разделим данные на выборки и проверим их размерность."
   ]
  },
  {
   "cell_type": "code",
   "execution_count": 17,
   "metadata": {},
   "outputs": [
    {
     "name": "stdout",
     "output_type": "stream",
     "text": [
      "Размер обучающей выборки- 75%\n",
      "Размер валидационной выборки - 25%\n"
     ]
    }
   ],
   "source": [
    "features_train_0, features_valid_0, target_train_0, target_valid_0 = train_test_split(features_0, target_0, test_size=0.25, random_state=12345)\n",
    "tv_shape=target_valid_0.shape[0]/target_0.shape[0]\n",
    "tt_shape=target_train_0.shape[0]/target_0.shape[0]\n",
    "\n",
    "print('Размер обучающей выборки- {:.0%}'.format(tt_shape))\n",
    "print('Размер валидационной выборки - {:.0%}'.format(tv_shape))"
   ]
  },
  {
   "cell_type": "code",
   "execution_count": 18,
   "metadata": {},
   "outputs": [
    {
     "name": "stdout",
     "output_type": "stream",
     "text": [
      "Размер обучающей выборки- 75%\n",
      "Размер валидационной выборки - 25%\n"
     ]
    }
   ],
   "source": [
    "features_train_1, features_valid_1, target_train_1, target_valid_1 = train_test_split(features_1, target_1, test_size=0.25, random_state=12345)\n",
    "tv_shape=target_valid_1.shape[0]/target_1.shape[0]\n",
    "tt_shape=target_train_1.shape[0]/target_2.shape[0]\n",
    "\n",
    "print('Размер обучающей выборки- {:.0%}'.format(tt_shape))\n",
    "print('Размер валидационной выборки - {:.0%}'.format(tv_shape))"
   ]
  },
  {
   "cell_type": "code",
   "execution_count": 19,
   "metadata": {},
   "outputs": [
    {
     "name": "stdout",
     "output_type": "stream",
     "text": [
      "Размер обучающей выборки- 75%\n",
      "Размер валидационной выборки - 25%\n"
     ]
    }
   ],
   "source": [
    "features_train_2, features_valid_2, target_train_2, target_valid_2 = train_test_split(features_2, target_2, test_size=0.25, random_state=12345)\n",
    "tv_shape=target_valid_2.shape[0]/target_2.shape[0]\n",
    "tt_shape=target_train_2.shape[0]/target_2.shape[0]\n",
    "\n",
    "print('Размер обучающей выборки- {:.0%}'.format(tt_shape))\n",
    "print('Размер валидационной выборки - {:.0%}'.format(tv_shape))"
   ]
  },
  {
   "cell_type": "markdown",
   "metadata": {},
   "source": [
    "Обучим модель Линейной регрессии отдельно для каждого региона.\n"
   ]
  },
  {
   "cell_type": "code",
   "execution_count": 20,
   "metadata": {},
   "outputs": [
    {
     "name": "stdout",
     "output_type": "stream",
     "text": [
      "Среднеквадратичная ошибка RMSE: 37.58\n",
      "Коэффициент детерминации: 0.28\n"
     ]
    }
   ],
   "source": [
    "model_0=LinearRegression()\n",
    "model_0.fit(features_train_0, target_train_0)\n",
    "predict_0=model_0.predict(features_valid_0)\n",
    "rmse_0 = mean_squared_error(target_valid_0, predict_0)**0.5\n",
    "print('Среднеквадратичная ошибка RMSE: %.2f'% rmse_0)\n",
    "print('Коэффициент детерминации: %.2f' % r2_score(target_valid_0, predict_0))"
   ]
  },
  {
   "cell_type": "code",
   "execution_count": 21,
   "metadata": {},
   "outputs": [
    {
     "name": "stdout",
     "output_type": "stream",
     "text": [
      "Среднеквадратичная ошибка RMSE: 0.89\n",
      "Коэффициент детерминации: 1.00\n"
     ]
    }
   ],
   "source": [
    "model_1=LinearRegression()\n",
    "model_1.fit(features_train_1, target_train_1)\n",
    "predict_1=model_1.predict(features_valid_1)\n",
    "rmse_1=mean_squared_error(target_valid_1, predict_1)**0.5\n",
    "print('Среднеквадратичная ошибка RMSE: %.2f' % rmse_1)\n",
    "print('Коэффициент детерминации: %.2f' % r2_score(target_valid_1, predict_1))"
   ]
  },
  {
   "cell_type": "code",
   "execution_count": 22,
   "metadata": {},
   "outputs": [
    {
     "name": "stdout",
     "output_type": "stream",
     "text": [
      "Среднеквадратичная ошибка RMSE: 40.03\n",
      "Коэффициент детерминации: 0.21\n"
     ]
    }
   ],
   "source": [
    "model_2=LinearRegression()\n",
    "model_2.fit(features_train_2, target_train_2)\n",
    "predict_2=model_2.predict(features_valid_2)\n",
    "rmse_2 = mean_squared_error(target_valid_2, predict_2)**0.5\n",
    "print('Среднеквадратичная ошибка RMSE: %.2f'% rmse_2)\n",
    "print('Коэффициент детерминации: %.2f' % r2_score(target_valid_2, predict_2))"
   ]
  },
  {
   "cell_type": "code",
   "execution_count": 23,
   "metadata": {},
   "outputs": [
    {
     "data": {
      "text/html": [
       "<div>\n",
       "<style scoped>\n",
       "    .dataframe tbody tr th:only-of-type {\n",
       "        vertical-align: middle;\n",
       "    }\n",
       "\n",
       "    .dataframe tbody tr th {\n",
       "        vertical-align: top;\n",
       "    }\n",
       "\n",
       "    .dataframe thead th {\n",
       "        text-align: right;\n",
       "    }\n",
       "</style>\n",
       "<table border=\"1\" class=\"dataframe\">\n",
       "  <thead>\n",
       "    <tr style=\"text-align: right;\">\n",
       "      <th></th>\n",
       "      <th>1 регион</th>\n",
       "      <th>2 регион</th>\n",
       "      <th>3 регион</th>\n",
       "    </tr>\n",
       "  </thead>\n",
       "  <tbody>\n",
       "    <tr>\n",
       "      <th>средний запас предсказанного сырья</th>\n",
       "      <td>92.592568</td>\n",
       "      <td>68.728547</td>\n",
       "      <td>94.965046</td>\n",
       "    </tr>\n",
       "    <tr>\n",
       "      <th>RMSE модели</th>\n",
       "      <td>37.579422</td>\n",
       "      <td>0.893099</td>\n",
       "      <td>40.029709</td>\n",
       "    </tr>\n",
       "  </tbody>\n",
       "</table>\n",
       "</div>"
      ],
      "text/plain": [
       "                                     1 регион   2 регион   3 регион\n",
       "средний запас предсказанного сырья  92.592568  68.728547  94.965046\n",
       "RMSE модели                         37.579422   0.893099  40.029709"
      ]
     },
     "execution_count": 23,
     "metadata": {},
     "output_type": "execute_result"
    }
   ],
   "source": [
    "comparison_tabl = pd.DataFrame(index=['средний запас предсказанного сырья','RMSE модели'], columns=['1 регион','2 регион','3 регион'])\n",
    "comparison_tabl['1 регион'] = predict_0.mean(), rmse_0\n",
    "comparison_tabl['2 регион'] = predict_1.mean(), rmse_1\n",
    "comparison_tabl['3 регион'] = predict_2.mean(), rmse_2\n",
    "comparison_tabl"
   ]
  },
  {
   "cell_type": "markdown",
   "metadata": {},
   "source": [
    "В получившейся таблице средних значений предсказаний объемов сырья и RMSE каждой модели, значения для 2 региона заметно отличаются от других, вероятно, это связано с высокой зависимости целевого признака от вышеупомянутого 'f2'."
   ]
  },
  {
   "cell_type": "markdown",
   "metadata": {},
   "source": [
    "## Подготовка к расчёту прибыли"
   ]
  },
  {
   "cell_type": "markdown",
   "metadata": {},
   "source": [
    "При разведке региона исследуем 500 точек, из которых с помощью машинного обучения выберем 200 лучших для разработки.\n",
    "Бюджет на разработку скважин в регионе — 10 млрд рублей.\n",
    "При нынешних ценах один баррель сырья приносит 450 рублей дохода. Доход с каждой единицы продукта составляет 450 тыс.\n",
    "рублей, поскольку объём указан в тысячах баррелей.\n",
    "После оценки рисков оставим лишь те регионы, в которых вероятность убытков меньше 2.5%. Среди них выберем регион с наибольшей средней прибылью."
   ]
  },
  {
   "cell_type": "code",
   "execution_count": 24,
   "metadata": {},
   "outputs": [],
   "source": [
    "budget = 10000000 #Бюджет на разработку скважин в регионе, тыс.руб\n",
    "income_one_product = 450 #Доход с каждой единицы продукта, тыс.руб\n",
    "target_probability_losses = 2.5/100 # вероятность убытков\n",
    "product_mean_0 = data_0['product'].mean()\n",
    "product_mean_1 = data_1['product'].mean()\n",
    "product_mean_2 = data_2['product'].mean()"
   ]
  },
  {
   "cell_type": "code",
   "execution_count": 25,
   "metadata": {},
   "outputs": [
    {
     "name": "stdout",
     "output_type": "stream",
     "text": [
      "Cредний запас сырья в 1 регионе = 92.50 млн.баррелей\n",
      "Cредний запас сырья в 2 регионе = 68.83 млн.баррелей\n",
      "Cредний запас сырья в 3 регионе = 95.00 млн.баррелей\n"
     ]
    }
   ],
   "source": [
    "print('Cредний запас сырья в 1 регионе = %.2f млн.баррелей'%product_mean_0)\n",
    "print('Cредний запас сырья в 2 регионе = %.2f млн.баррелей'%product_mean_1)\n",
    "print('Cредний запас сырья в 3 регионе = %.2f млн.баррелей'%product_mean_2)"
   ]
  },
  {
   "cell_type": "code",
   "execution_count": 26,
   "metadata": {},
   "outputs": [
    {
     "name": "stdout",
     "output_type": "stream",
     "text": [
      "Бюджет на разработку одной скважины =  50.0 млн.руб\n"
     ]
    }
   ],
   "source": [
    "budg_per_1_point=(budget/200)# тыс.руб\n",
    "print('Бюджет на разработку одной скважины = ', budg_per_1_point/1000,'млн.руб')"
   ]
  },
  {
   "cell_type": "code",
   "execution_count": 27,
   "metadata": {},
   "outputs": [
    {
     "name": "stdout",
     "output_type": "stream",
     "text": [
      "Объём сырья для безубыточной разработки >= 111.11 тыс.баррелей\n"
     ]
    }
   ],
   "source": [
    "v_product = budg_per_1_point/income_one_product\n",
    "print('Объём сырья для безубыточной разработки >= %.2f'%v_product,'тыс.баррелей')"
   ]
  },
  {
   "cell_type": "markdown",
   "metadata": {},
   "source": [
    "Сраним полученное значение с количеством запасов сырья в регионах."
   ]
  },
  {
   "cell_type": "code",
   "execution_count": 28,
   "metadata": {},
   "outputs": [
    {
     "data": {
      "text/html": [
       "<div>\n",
       "<style scoped>\n",
       "    .dataframe tbody tr th:only-of-type {\n",
       "        vertical-align: middle;\n",
       "    }\n",
       "\n",
       "    .dataframe tbody tr th {\n",
       "        vertical-align: top;\n",
       "    }\n",
       "\n",
       "    .dataframe thead th {\n",
       "        text-align: right;\n",
       "    }\n",
       "</style>\n",
       "<table border=\"1\" class=\"dataframe\">\n",
       "  <thead>\n",
       "    <tr style=\"text-align: right;\">\n",
       "      <th></th>\n",
       "      <th>id</th>\n",
       "      <th>f0</th>\n",
       "      <th>f1</th>\n",
       "      <th>f2</th>\n",
       "      <th>product</th>\n",
       "      <th>profit</th>\n",
       "    </tr>\n",
       "  </thead>\n",
       "  <tbody>\n",
       "    <tr>\n",
       "      <th>0</th>\n",
       "      <td>txEyH</td>\n",
       "      <td>0.705745</td>\n",
       "      <td>-0.497823</td>\n",
       "      <td>1.221170</td>\n",
       "      <td>105.280062</td>\n",
       "      <td>47376.03</td>\n",
       "    </tr>\n",
       "    <tr>\n",
       "      <th>1</th>\n",
       "      <td>2acmU</td>\n",
       "      <td>1.334711</td>\n",
       "      <td>-0.340164</td>\n",
       "      <td>4.365080</td>\n",
       "      <td>73.037750</td>\n",
       "      <td>32866.99</td>\n",
       "    </tr>\n",
       "    <tr>\n",
       "      <th>2</th>\n",
       "      <td>409Wp</td>\n",
       "      <td>1.022732</td>\n",
       "      <td>0.151990</td>\n",
       "      <td>1.419926</td>\n",
       "      <td>85.265647</td>\n",
       "      <td>38369.54</td>\n",
       "    </tr>\n",
       "    <tr>\n",
       "      <th>3</th>\n",
       "      <td>iJLyR</td>\n",
       "      <td>-0.032172</td>\n",
       "      <td>0.139033</td>\n",
       "      <td>2.978566</td>\n",
       "      <td>168.620776</td>\n",
       "      <td>75879.35</td>\n",
       "    </tr>\n",
       "    <tr>\n",
       "      <th>4</th>\n",
       "      <td>Xdl7t</td>\n",
       "      <td>1.988431</td>\n",
       "      <td>0.155413</td>\n",
       "      <td>4.751769</td>\n",
       "      <td>154.036647</td>\n",
       "      <td>69316.49</td>\n",
       "    </tr>\n",
       "  </tbody>\n",
       "</table>\n",
       "</div>"
      ],
      "text/plain": [
       "      id        f0        f1        f2     product    profit\n",
       "0  txEyH  0.705745 -0.497823  1.221170  105.280062  47376.03\n",
       "1  2acmU  1.334711 -0.340164  4.365080   73.037750  32866.99\n",
       "2  409Wp  1.022732  0.151990  1.419926   85.265647  38369.54\n",
       "3  iJLyR -0.032172  0.139033  2.978566  168.620776  75879.35\n",
       "4  Xdl7t  1.988431  0.155413  4.751769  154.036647  69316.49"
      ]
     },
     "execution_count": 28,
     "metadata": {},
     "output_type": "execute_result"
    }
   ],
   "source": [
    "data_0['profit']=(data_0['product']*(income_one_product)).round(2) # profit, тыс.руб\n",
    "data_0.head()"
   ]
  },
  {
   "cell_type": "code",
   "execution_count": 29,
   "metadata": {},
   "outputs": [
    {
     "data": {
      "text/html": [
       "<div>\n",
       "<style scoped>\n",
       "    .dataframe tbody tr th:only-of-type {\n",
       "        vertical-align: middle;\n",
       "    }\n",
       "\n",
       "    .dataframe tbody tr th {\n",
       "        vertical-align: top;\n",
       "    }\n",
       "\n",
       "    .dataframe thead th {\n",
       "        text-align: right;\n",
       "    }\n",
       "</style>\n",
       "<table border=\"1\" class=\"dataframe\">\n",
       "  <thead>\n",
       "    <tr style=\"text-align: right;\">\n",
       "      <th></th>\n",
       "      <th>id</th>\n",
       "      <th>f0</th>\n",
       "      <th>f1</th>\n",
       "      <th>f2</th>\n",
       "      <th>product</th>\n",
       "      <th>profit</th>\n",
       "      <th>roi</th>\n",
       "    </tr>\n",
       "  </thead>\n",
       "  <tbody>\n",
       "    <tr>\n",
       "      <th>0</th>\n",
       "      <td>txEyH</td>\n",
       "      <td>0.705745</td>\n",
       "      <td>-0.497823</td>\n",
       "      <td>1.221170</td>\n",
       "      <td>105.280062</td>\n",
       "      <td>47376.03</td>\n",
       "      <td>-5.25</td>\n",
       "    </tr>\n",
       "    <tr>\n",
       "      <th>1</th>\n",
       "      <td>2acmU</td>\n",
       "      <td>1.334711</td>\n",
       "      <td>-0.340164</td>\n",
       "      <td>4.365080</td>\n",
       "      <td>73.037750</td>\n",
       "      <td>32866.99</td>\n",
       "      <td>-34.27</td>\n",
       "    </tr>\n",
       "    <tr>\n",
       "      <th>2</th>\n",
       "      <td>409Wp</td>\n",
       "      <td>1.022732</td>\n",
       "      <td>0.151990</td>\n",
       "      <td>1.419926</td>\n",
       "      <td>85.265647</td>\n",
       "      <td>38369.54</td>\n",
       "      <td>-23.26</td>\n",
       "    </tr>\n",
       "    <tr>\n",
       "      <th>3</th>\n",
       "      <td>iJLyR</td>\n",
       "      <td>-0.032172</td>\n",
       "      <td>0.139033</td>\n",
       "      <td>2.978566</td>\n",
       "      <td>168.620776</td>\n",
       "      <td>75879.35</td>\n",
       "      <td>51.76</td>\n",
       "    </tr>\n",
       "    <tr>\n",
       "      <th>4</th>\n",
       "      <td>Xdl7t</td>\n",
       "      <td>1.988431</td>\n",
       "      <td>0.155413</td>\n",
       "      <td>4.751769</td>\n",
       "      <td>154.036647</td>\n",
       "      <td>69316.49</td>\n",
       "      <td>38.63</td>\n",
       "    </tr>\n",
       "  </tbody>\n",
       "</table>\n",
       "</div>"
      ],
      "text/plain": [
       "      id        f0        f1        f2     product    profit    roi\n",
       "0  txEyH  0.705745 -0.497823  1.221170  105.280062  47376.03  -5.25\n",
       "1  2acmU  1.334711 -0.340164  4.365080   73.037750  32866.99 -34.27\n",
       "2  409Wp  1.022732  0.151990  1.419926   85.265647  38369.54 -23.26\n",
       "3  iJLyR -0.032172  0.139033  2.978566  168.620776  75879.35  51.76\n",
       "4  Xdl7t  1.988431  0.155413  4.751769  154.036647  69316.49  38.63"
      ]
     },
     "execution_count": 29,
     "metadata": {},
     "output_type": "execute_result"
    }
   ],
   "source": [
    "data_0['roi']=((data_0['profit']-budg_per_1_point)/budg_per_1_point*100).round(2)\n",
    "data_0.head()"
   ]
  },
  {
   "cell_type": "code",
   "execution_count": 30,
   "metadata": {},
   "outputs": [
    {
     "name": "stdout",
     "output_type": "stream",
     "text": [
      "Разница объёма сырья для безубыточной разработки скважины относительно среднего значения по 1 региону составляет: -16.75%\n",
      "(18.61 тыс.баррелей)\n"
     ]
    }
   ],
   "source": [
    "print('Разница объёма сырья для безубыточной разработки скважины относительно среднего значения по 1 региону составляет: {:.2%}'.format(product_mean_0/v_product-1))\n",
    "print('({:.2f} тыс.баррелей)'.format(v_product-product_mean_0))"
   ]
  },
  {
   "cell_type": "code",
   "execution_count": 31,
   "metadata": {},
   "outputs": [
    {
     "data": {
      "text/html": [
       "<div>\n",
       "<style scoped>\n",
       "    .dataframe tbody tr th:only-of-type {\n",
       "        vertical-align: middle;\n",
       "    }\n",
       "\n",
       "    .dataframe tbody tr th {\n",
       "        vertical-align: top;\n",
       "    }\n",
       "\n",
       "    .dataframe thead th {\n",
       "        text-align: right;\n",
       "    }\n",
       "</style>\n",
       "<table border=\"1\" class=\"dataframe\">\n",
       "  <thead>\n",
       "    <tr style=\"text-align: right;\">\n",
       "      <th></th>\n",
       "      <th>id</th>\n",
       "      <th>f0</th>\n",
       "      <th>f1</th>\n",
       "      <th>f2</th>\n",
       "      <th>product</th>\n",
       "      <th>profit</th>\n",
       "    </tr>\n",
       "  </thead>\n",
       "  <tbody>\n",
       "    <tr>\n",
       "      <th>0</th>\n",
       "      <td>kBEdx</td>\n",
       "      <td>-15.001348</td>\n",
       "      <td>-8.276000</td>\n",
       "      <td>-0.005876</td>\n",
       "      <td>3.179103</td>\n",
       "      <td>1430.60</td>\n",
       "    </tr>\n",
       "    <tr>\n",
       "      <th>1</th>\n",
       "      <td>62mP7</td>\n",
       "      <td>14.272088</td>\n",
       "      <td>-3.475083</td>\n",
       "      <td>0.999183</td>\n",
       "      <td>26.953261</td>\n",
       "      <td>12128.97</td>\n",
       "    </tr>\n",
       "    <tr>\n",
       "      <th>2</th>\n",
       "      <td>vyE1P</td>\n",
       "      <td>6.263187</td>\n",
       "      <td>-5.948386</td>\n",
       "      <td>5.001160</td>\n",
       "      <td>134.766305</td>\n",
       "      <td>60644.84</td>\n",
       "    </tr>\n",
       "    <tr>\n",
       "      <th>3</th>\n",
       "      <td>KcrkZ</td>\n",
       "      <td>-13.081196</td>\n",
       "      <td>-11.506057</td>\n",
       "      <td>4.999415</td>\n",
       "      <td>137.945408</td>\n",
       "      <td>62075.43</td>\n",
       "    </tr>\n",
       "    <tr>\n",
       "      <th>4</th>\n",
       "      <td>AHL4O</td>\n",
       "      <td>12.702195</td>\n",
       "      <td>-8.147433</td>\n",
       "      <td>5.004363</td>\n",
       "      <td>134.766305</td>\n",
       "      <td>60644.84</td>\n",
       "    </tr>\n",
       "  </tbody>\n",
       "</table>\n",
       "</div>"
      ],
      "text/plain": [
       "      id         f0         f1        f2     product    profit\n",
       "0  kBEdx -15.001348  -8.276000 -0.005876    3.179103   1430.60\n",
       "1  62mP7  14.272088  -3.475083  0.999183   26.953261  12128.97\n",
       "2  vyE1P   6.263187  -5.948386  5.001160  134.766305  60644.84\n",
       "3  KcrkZ -13.081196 -11.506057  4.999415  137.945408  62075.43\n",
       "4  AHL4O  12.702195  -8.147433  5.004363  134.766305  60644.84"
      ]
     },
     "execution_count": 31,
     "metadata": {},
     "output_type": "execute_result"
    }
   ],
   "source": [
    "data_1['profit']=(data_1['product']*(income_one_product)).round(2) # profit, тыс.руб\n",
    "data_1.head()"
   ]
  },
  {
   "cell_type": "code",
   "execution_count": 32,
   "metadata": {},
   "outputs": [
    {
     "data": {
      "text/html": [
       "<div>\n",
       "<style scoped>\n",
       "    .dataframe tbody tr th:only-of-type {\n",
       "        vertical-align: middle;\n",
       "    }\n",
       "\n",
       "    .dataframe tbody tr th {\n",
       "        vertical-align: top;\n",
       "    }\n",
       "\n",
       "    .dataframe thead th {\n",
       "        text-align: right;\n",
       "    }\n",
       "</style>\n",
       "<table border=\"1\" class=\"dataframe\">\n",
       "  <thead>\n",
       "    <tr style=\"text-align: right;\">\n",
       "      <th></th>\n",
       "      <th>id</th>\n",
       "      <th>f0</th>\n",
       "      <th>f1</th>\n",
       "      <th>f2</th>\n",
       "      <th>product</th>\n",
       "      <th>profit</th>\n",
       "      <th>roi</th>\n",
       "    </tr>\n",
       "  </thead>\n",
       "  <tbody>\n",
       "    <tr>\n",
       "      <th>0</th>\n",
       "      <td>kBEdx</td>\n",
       "      <td>-15.001348</td>\n",
       "      <td>-8.276000</td>\n",
       "      <td>-0.005876</td>\n",
       "      <td>3.179103</td>\n",
       "      <td>1430.60</td>\n",
       "      <td>-97.14</td>\n",
       "    </tr>\n",
       "    <tr>\n",
       "      <th>1</th>\n",
       "      <td>62mP7</td>\n",
       "      <td>14.272088</td>\n",
       "      <td>-3.475083</td>\n",
       "      <td>0.999183</td>\n",
       "      <td>26.953261</td>\n",
       "      <td>12128.97</td>\n",
       "      <td>-75.74</td>\n",
       "    </tr>\n",
       "    <tr>\n",
       "      <th>2</th>\n",
       "      <td>vyE1P</td>\n",
       "      <td>6.263187</td>\n",
       "      <td>-5.948386</td>\n",
       "      <td>5.001160</td>\n",
       "      <td>134.766305</td>\n",
       "      <td>60644.84</td>\n",
       "      <td>21.29</td>\n",
       "    </tr>\n",
       "    <tr>\n",
       "      <th>3</th>\n",
       "      <td>KcrkZ</td>\n",
       "      <td>-13.081196</td>\n",
       "      <td>-11.506057</td>\n",
       "      <td>4.999415</td>\n",
       "      <td>137.945408</td>\n",
       "      <td>62075.43</td>\n",
       "      <td>24.15</td>\n",
       "    </tr>\n",
       "    <tr>\n",
       "      <th>4</th>\n",
       "      <td>AHL4O</td>\n",
       "      <td>12.702195</td>\n",
       "      <td>-8.147433</td>\n",
       "      <td>5.004363</td>\n",
       "      <td>134.766305</td>\n",
       "      <td>60644.84</td>\n",
       "      <td>21.29</td>\n",
       "    </tr>\n",
       "  </tbody>\n",
       "</table>\n",
       "</div>"
      ],
      "text/plain": [
       "      id         f0         f1        f2     product    profit    roi\n",
       "0  kBEdx -15.001348  -8.276000 -0.005876    3.179103   1430.60 -97.14\n",
       "1  62mP7  14.272088  -3.475083  0.999183   26.953261  12128.97 -75.74\n",
       "2  vyE1P   6.263187  -5.948386  5.001160  134.766305  60644.84  21.29\n",
       "3  KcrkZ -13.081196 -11.506057  4.999415  137.945408  62075.43  24.15\n",
       "4  AHL4O  12.702195  -8.147433  5.004363  134.766305  60644.84  21.29"
      ]
     },
     "execution_count": 32,
     "metadata": {},
     "output_type": "execute_result"
    }
   ],
   "source": [
    "data_1['roi']=((data_1['profit']-budg_per_1_point)/budg_per_1_point*100).round(2)\n",
    "data_1.head()"
   ]
  },
  {
   "cell_type": "code",
   "execution_count": 33,
   "metadata": {},
   "outputs": [
    {
     "name": "stdout",
     "output_type": "stream",
     "text": [
      "Разница объёма сырья для безубыточной разработки скважины относительно среднего значения по 1 региону составляет: -38.06%\n",
      "(42.29 тыс.баррелей)\n"
     ]
    }
   ],
   "source": [
    "print('Разница объёма сырья для безубыточной разработки скважины относительно среднего значения по 1 региону составляет: {:.2%}'.format(product_mean_1/v_product-1))\n",
    "print('({:.2f} тыс.баррелей)'.format(v_product-product_mean_1))"
   ]
  },
  {
   "cell_type": "code",
   "execution_count": 34,
   "metadata": {},
   "outputs": [
    {
     "data": {
      "text/html": [
       "<div>\n",
       "<style scoped>\n",
       "    .dataframe tbody tr th:only-of-type {\n",
       "        vertical-align: middle;\n",
       "    }\n",
       "\n",
       "    .dataframe tbody tr th {\n",
       "        vertical-align: top;\n",
       "    }\n",
       "\n",
       "    .dataframe thead th {\n",
       "        text-align: right;\n",
       "    }\n",
       "</style>\n",
       "<table border=\"1\" class=\"dataframe\">\n",
       "  <thead>\n",
       "    <tr style=\"text-align: right;\">\n",
       "      <th></th>\n",
       "      <th>id</th>\n",
       "      <th>f0</th>\n",
       "      <th>f1</th>\n",
       "      <th>f2</th>\n",
       "      <th>product</th>\n",
       "      <th>profit</th>\n",
       "    </tr>\n",
       "  </thead>\n",
       "  <tbody>\n",
       "    <tr>\n",
       "      <th>0</th>\n",
       "      <td>fwXo0</td>\n",
       "      <td>-1.146987</td>\n",
       "      <td>0.963328</td>\n",
       "      <td>-0.828965</td>\n",
       "      <td>27.758673</td>\n",
       "      <td>12491.40</td>\n",
       "    </tr>\n",
       "    <tr>\n",
       "      <th>1</th>\n",
       "      <td>WJtFt</td>\n",
       "      <td>0.262778</td>\n",
       "      <td>0.269839</td>\n",
       "      <td>-2.530187</td>\n",
       "      <td>56.069697</td>\n",
       "      <td>25231.36</td>\n",
       "    </tr>\n",
       "    <tr>\n",
       "      <th>2</th>\n",
       "      <td>ovLUW</td>\n",
       "      <td>0.194587</td>\n",
       "      <td>0.289035</td>\n",
       "      <td>-5.586433</td>\n",
       "      <td>62.871910</td>\n",
       "      <td>28292.36</td>\n",
       "    </tr>\n",
       "    <tr>\n",
       "      <th>3</th>\n",
       "      <td>q6cA6</td>\n",
       "      <td>2.236060</td>\n",
       "      <td>-0.553760</td>\n",
       "      <td>0.930038</td>\n",
       "      <td>114.572842</td>\n",
       "      <td>51557.78</td>\n",
       "    </tr>\n",
       "    <tr>\n",
       "      <th>4</th>\n",
       "      <td>WPMUX</td>\n",
       "      <td>-0.515993</td>\n",
       "      <td>1.716266</td>\n",
       "      <td>5.899011</td>\n",
       "      <td>149.600746</td>\n",
       "      <td>67320.34</td>\n",
       "    </tr>\n",
       "  </tbody>\n",
       "</table>\n",
       "</div>"
      ],
      "text/plain": [
       "      id        f0        f1        f2     product    profit\n",
       "0  fwXo0 -1.146987  0.963328 -0.828965   27.758673  12491.40\n",
       "1  WJtFt  0.262778  0.269839 -2.530187   56.069697  25231.36\n",
       "2  ovLUW  0.194587  0.289035 -5.586433   62.871910  28292.36\n",
       "3  q6cA6  2.236060 -0.553760  0.930038  114.572842  51557.78\n",
       "4  WPMUX -0.515993  1.716266  5.899011  149.600746  67320.34"
      ]
     },
     "execution_count": 34,
     "metadata": {},
     "output_type": "execute_result"
    }
   ],
   "source": [
    "data_2['profit']=(data_2['product']*(income_one_product)).round(2) # profit, тыс.руб\n",
    "data_2.head()"
   ]
  },
  {
   "cell_type": "code",
   "execution_count": 35,
   "metadata": {},
   "outputs": [
    {
     "data": {
      "text/html": [
       "<div>\n",
       "<style scoped>\n",
       "    .dataframe tbody tr th:only-of-type {\n",
       "        vertical-align: middle;\n",
       "    }\n",
       "\n",
       "    .dataframe tbody tr th {\n",
       "        vertical-align: top;\n",
       "    }\n",
       "\n",
       "    .dataframe thead th {\n",
       "        text-align: right;\n",
       "    }\n",
       "</style>\n",
       "<table border=\"1\" class=\"dataframe\">\n",
       "  <thead>\n",
       "    <tr style=\"text-align: right;\">\n",
       "      <th></th>\n",
       "      <th>id</th>\n",
       "      <th>f0</th>\n",
       "      <th>f1</th>\n",
       "      <th>f2</th>\n",
       "      <th>product</th>\n",
       "      <th>profit</th>\n",
       "      <th>roi</th>\n",
       "    </tr>\n",
       "  </thead>\n",
       "  <tbody>\n",
       "    <tr>\n",
       "      <th>0</th>\n",
       "      <td>fwXo0</td>\n",
       "      <td>-1.146987</td>\n",
       "      <td>0.963328</td>\n",
       "      <td>-0.828965</td>\n",
       "      <td>27.758673</td>\n",
       "      <td>12491.40</td>\n",
       "      <td>-75.02</td>\n",
       "    </tr>\n",
       "    <tr>\n",
       "      <th>1</th>\n",
       "      <td>WJtFt</td>\n",
       "      <td>0.262778</td>\n",
       "      <td>0.269839</td>\n",
       "      <td>-2.530187</td>\n",
       "      <td>56.069697</td>\n",
       "      <td>25231.36</td>\n",
       "      <td>-49.54</td>\n",
       "    </tr>\n",
       "    <tr>\n",
       "      <th>2</th>\n",
       "      <td>ovLUW</td>\n",
       "      <td>0.194587</td>\n",
       "      <td>0.289035</td>\n",
       "      <td>-5.586433</td>\n",
       "      <td>62.871910</td>\n",
       "      <td>28292.36</td>\n",
       "      <td>-43.42</td>\n",
       "    </tr>\n",
       "    <tr>\n",
       "      <th>3</th>\n",
       "      <td>q6cA6</td>\n",
       "      <td>2.236060</td>\n",
       "      <td>-0.553760</td>\n",
       "      <td>0.930038</td>\n",
       "      <td>114.572842</td>\n",
       "      <td>51557.78</td>\n",
       "      <td>3.12</td>\n",
       "    </tr>\n",
       "    <tr>\n",
       "      <th>4</th>\n",
       "      <td>WPMUX</td>\n",
       "      <td>-0.515993</td>\n",
       "      <td>1.716266</td>\n",
       "      <td>5.899011</td>\n",
       "      <td>149.600746</td>\n",
       "      <td>67320.34</td>\n",
       "      <td>34.64</td>\n",
       "    </tr>\n",
       "  </tbody>\n",
       "</table>\n",
       "</div>"
      ],
      "text/plain": [
       "      id        f0        f1        f2     product    profit    roi\n",
       "0  fwXo0 -1.146987  0.963328 -0.828965   27.758673  12491.40 -75.02\n",
       "1  WJtFt  0.262778  0.269839 -2.530187   56.069697  25231.36 -49.54\n",
       "2  ovLUW  0.194587  0.289035 -5.586433   62.871910  28292.36 -43.42\n",
       "3  q6cA6  2.236060 -0.553760  0.930038  114.572842  51557.78   3.12\n",
       "4  WPMUX -0.515993  1.716266  5.899011  149.600746  67320.34  34.64"
      ]
     },
     "execution_count": 35,
     "metadata": {},
     "output_type": "execute_result"
    }
   ],
   "source": [
    "data_2['roi']=((data_2['profit']-budg_per_1_point)/budg_per_1_point*100).round(2)\n",
    "data_2.head()"
   ]
  },
  {
   "cell_type": "code",
   "execution_count": 36,
   "metadata": {},
   "outputs": [
    {
     "name": "stdout",
     "output_type": "stream",
     "text": [
      "Разница объёма сырья для безубыточной разработки скважины относительно среднего значения по 1 региону составляет: -14.50%\n",
      "(16.11 тыс.баррелей)\n"
     ]
    }
   ],
   "source": [
    "print('Разница объёма сырья для безубыточной разработки скважины относительно среднего значения по 1 региону составляет: {:.2%}'.format(product_mean_2/v_product-1))\n",
    "print('({:.2f} тыс.баррелей)'.format(v_product-product_mean_2))"
   ]
  },
  {
   "cell_type": "markdown",
   "metadata": {},
   "source": [
    "Согласно полученным данным среднего количество запасов сырья по регионам недостаточно для окупаемости разработки, соответственно нужно выбрать скважины с наибольшим объемом запасов."
   ]
  },
  {
   "cell_type": "markdown",
   "metadata": {},
   "source": [
    "## Расчёт прибыли и рисков "
   ]
  },
  {
   "cell_type": "markdown",
   "metadata": {},
   "source": [
    "Отсортируем предсказания по 1 региону и возьмем 200 наибольших значений."
   ]
  },
  {
   "cell_type": "code",
   "execution_count": 37,
   "metadata": {},
   "outputs": [
    {
     "data": {
      "text/plain": [
       "93073    180.180713\n",
       "46784    176.252213\n",
       "78948    175.850623\n",
       "43388    175.658429\n",
       "6496     173.299686\n",
       "            ...    \n",
       "30488    148.507064\n",
       "98799    148.481767\n",
       "53840    148.476498\n",
       "4638     148.436761\n",
       "75908    148.365941\n",
       "Length: 200, dtype: float64"
      ]
     },
     "execution_count": 37,
     "metadata": {},
     "output_type": "execute_result"
    }
   ],
   "source": [
    "probs_sorted_0 = pd.Series(predict_0, index=target_valid_0.index).sort_values(ascending=False)\n",
    "selected_max_0 = probs_sorted_0[:200]\n",
    "selected_max_0"
   ]
  },
  {
   "cell_type": "markdown",
   "metadata": {},
   "source": [
    "Найдем объем лучших 200 скважин, выбранных для разработки."
   ]
  },
  {
   "cell_type": "code",
   "execution_count": 38,
   "metadata": {},
   "outputs": [
    {
     "name": "stdout",
     "output_type": "stream",
     "text": [
      "Объем запасов сырья в 200 лучших скважинах = 31102.33 тыс.баррелей\n",
      "Прибыль для полученного объёма сырья = 3996048.88 тыс.рублей\n"
     ]
    }
   ],
   "source": [
    "selected_max_0_sum = selected_max_0.sum()\n",
    "print('Объем запасов сырья в 200 лучших скважинах = %.2f тыс.баррелей' %selected_max_0_sum)\n",
    "profit_pred_0=(selected_max_0_sum*income_one_product) - budget\n",
    "print('Прибыль для полученного объёма сырья = %.2f тыс.рублей' %profit_pred_0)"
   ]
  },
  {
   "cell_type": "markdown",
   "metadata": {},
   "source": [
    "Создадим функцию для подсчета объема запасов сырья в выбранных скважинах и предполагаемой выручки."
   ]
  },
  {
   "cell_type": "code",
   "execution_count": 62,
   "metadata": {},
   "outputs": [],
   "source": [
    "def profit_for_vp(predict, target, count, print_var=1):\n",
    "    probs_sorted = pd.Series(predict, index=target.index).sort_values(ascending=False)\n",
    "    selected_max = probs_sorted[:count].sum()\n",
    "    profit_pred=(selected_max*income_one_product) - budget\n",
    "    print('Суммарный запас сырья в 200 лучших скважинах составит: %.2f тыс.баррелей' %selected_max)\n",
    "    print('Прибыль для полученного объёма сырья составит %.2f млн.рублей' %(profit_pred/1000))\n"
   ]
  },
  {
   "cell_type": "markdown",
   "metadata": {},
   "source": [
    "Применим полученную функцию для трех регионов."
   ]
  },
  {
   "cell_type": "code",
   "execution_count": 63,
   "metadata": {},
   "outputs": [
    {
     "name": "stdout",
     "output_type": "stream",
     "text": [
      "Регион 1\n",
      "Суммарный запас сырья в 200 лучших скважинах составит: 31102.33 тыс.баррелей\n",
      "Прибыль для полученного объёма сырья составит 3996.05 млн.рублей\n"
     ]
    }
   ],
   "source": [
    "print('Регион 1')\n",
    "profit_for_vp (predict_0, target_valid_0, 200)"
   ]
  },
  {
   "cell_type": "code",
   "execution_count": 64,
   "metadata": {},
   "outputs": [
    {
     "name": "stdout",
     "output_type": "stream",
     "text": [
      "Регион 2\n",
      "Суммарный запас сырья в 200 лучших скважинах составит: 27746.03 тыс.баррелей\n",
      "Прибыль для полученного объёма сырья составит 2485.71 млн.рублей\n"
     ]
    }
   ],
   "source": [
    "print('Регион 2')\n",
    "profit_for_vp(predict_1, target_valid_1, 200)"
   ]
  },
  {
   "cell_type": "code",
   "execution_count": 65,
   "metadata": {},
   "outputs": [
    {
     "name": "stdout",
     "output_type": "stream",
     "text": [
      "Регион 3\n",
      "Суммарный запас сырья в 200 лучших скважинах составит: 29603.90 тыс.баррелей\n",
      "Прибыль для полученного объёма сырья составит 3321.75 млн.рублей\n"
     ]
    }
   ],
   "source": [
    "print('Регион 3')\n",
    "profit_for_vp(predict_2, target_valid_2, 200)"
   ]
  },
  {
   "cell_type": "markdown",
   "metadata": {},
   "source": [
    "Все 3 региона поценциально прибыльные, лучшие показатели у Региона 1."
   ]
  },
  {
   "cell_type": "markdown",
   "metadata": {},
   "source": [
    "## Bootstrap "
   ]
  },
  {
   "cell_type": "markdown",
   "metadata": {},
   "source": [
    "Применим технику Bootstrap с 1000 выборок, чтобы найти распределение прибыли\n",
    "\n",
    "Найдём среднюю прибыль, 95%-й доверительный интервал и риск убытков.\n",
    "\n",
    "Прибыль:\n",
    "- положительная разница между суммарными доходами (выручка от реализации товаров и услуг) и затратами на разработку скважин\n",
    "\n",
    "Убыток:\n",
    "- уменьшение материальных и денежных ресурсов в результате превышения расходов над доходами (отрицательная прибыль)"
   ]
  },
  {
   "cell_type": "code",
   "execution_count": 66,
   "metadata": {},
   "outputs": [],
   "source": [
    "def profit_for_vp2 (predict, target, count):\n",
    "    probs_sorted = pd.Series(predict).sort_values(ascending=False)\n",
    "    selected_points = target[probs_sorted.index][:count]\n",
    "    product = selected_points.sum()\n",
    "    revenue = product * income_one_product\n",
    "    return revenue - budget"
   ]
  },
  {
   "cell_type": "code",
   "execution_count": 67,
   "metadata": {},
   "outputs": [],
   "source": [
    "def bootstap_1000(target, predict):\n",
    "    values = []\n",
    "    count=0\n",
    "    state = np.random.RandomState(12345)\n",
    "    predict_e = pd.Series(predict, index=target.index)\n",
    "    \n",
    "    for i in range(1000):\n",
    "        target_subsample = target.sample(n=500, replace=True, random_state=state)\n",
    "  \n",
    "        probs_subsample = predict_e[target_subsample.index]\n",
    "        values.append(profit_for_vp2(probs_subsample, target_subsample, 200))  \n",
    "    ##for i in values:\n",
    "        #if i < 0:\n",
    "            #count +=1\n",
    "            \n",
    "    values = pd.Series(values)\n",
    "    mean = values.mean()\n",
    "    confidence_interval = st.t.interval(0.95, len(values)-1, values.mean(), values.sem())\n",
    "    \n",
    "    plt.title('Распределение прибыли')\n",
    "    values.plot(kind=\"hist\", grid=True, figsize=(8,5))\n",
    "    plt.xlabel('Прибыль, тыс.руб')\n",
    "    plt.ylabel('Количество')\n",
    "    plt.show()\n",
    "    \n",
    "    low_95 = values.quantile(0.025)\n",
    "    high_95 = values.quantile(0.975)\n",
    "    \n",
    "    print(\"Средняя прибыль: {:.2f} млн.руб\".format(mean/1000))\n",
    "    print('С вероятностью 95% прибыль в данном регионе будет составлять от: {:.2f} млн.руб до: {:.2f} млн.руб'.format((low_95/1000),(high_95/1000)))\n",
    "    print(\"95%-ый доверительный интервал: от {:.2f} млн.руб до {:.2f} млн.руб\". format((confidence_interval[0]/1000),(confidence_interval[1]/1000)))\n",
    "    print ('Процент вероятности убытка в данном регионе составит {:.1%}'.format((values < 0).mean() * 100))"
   ]
  },
  {
   "cell_type": "markdown",
   "metadata": {},
   "source": [
    "Распределение прибыли в 1 регионе."
   ]
  },
  {
   "cell_type": "code",
   "execution_count": 68,
   "metadata": {},
   "outputs": [
    {
     "data": {
      "image/png": "[encoded data removed]",
      "text/plain": [
       "<Figure size 576x360 with 1 Axes>"
      ]
     },
     "metadata": {
      "needs_background": "light"
     },
     "output_type": "display_data"
    },
    {
     "name": "stdout",
     "output_type": "stream",
     "text": [
      "Средняя прибыль: 425.94 млн.руб\n",
      "С вероятностью 95% прибыль в данном регионе будет составлять от: -102.09 млн.руб до: 947.98 млн.руб\n",
      "95%-ый доверительный интервал: от 408.73 млн.руб до 443.14 млн.руб\n",
      "Процент вероятности убытка в данном регионе составит 600.0%\n"
     ]
    }
   ],
   "source": [
    "bootstap_1000(target_valid_0,predict_0)"
   ]
  },
  {
   "cell_type": "markdown",
   "metadata": {},
   "source": [
    "Распределение прибыли во 2 регионе."
   ]
  },
  {
   "cell_type": "code",
   "execution_count": null,
   "metadata": {},
   "outputs": [],
   "source": [
    "bootstap_1000(target_valid_1,predict_1)"
   ]
  },
  {
   "cell_type": "markdown",
   "metadata": {},
   "source": [
    "Распределение прибыли в 3 регионе."
   ]
  },
  {
   "cell_type": "code",
   "execution_count": null,
   "metadata": {},
   "outputs": [],
   "source": [
    "bootstap_1000(target_valid_2,predict_2)"
   ]
  },
  {
   "cell_type": "markdown",
   "metadata": {},
   "source": [
    "Соберем полученные данные в таблицу."
   ]
  },
  {
   "cell_type": "code",
   "execution_count": null,
   "metadata": {},
   "outputs": [],
   "source": [
    "comparison_tabl = pd.DataFrame(index=['Средняя прибыль в регионе, млн.руб','Суммарный запас сырья, тыс.баррелей','Вероятность убытка, %'], columns=['1 регион','2 регион','3 регион'])\n",
    "comparison_tabl['1 регион'] = '425.94', '31102.05','6.0'\n",
    "comparison_tabl['2 регион'] = '515.22', '27745.96','1.0'\n",
    "comparison_tabl['3 регион'] = '435.01', '29603.73','6.4'\n",
    "comparison_tabl\n"
   ]
  },
  {
   "cell_type": "markdown",
   "metadata": {},
   "source": [
    "По полученному распределению среднего значения прибыли с региона, ниболее прибыльным представляется 2 регион, средняя прибыль в этом регионе составит 515.23 млн.рублей. 1 и 3 регионы демонстрируют также более высокую вероятность убытка, выше пороговой в 2,5%. \n"
   ]
  },
  {
   "cell_type": "markdown",
   "metadata": {},
   "source": [
    "## Выводы"
   ]
  },
  {
   "cell_type": "markdown",
   "metadata": {},
   "source": [
    "Исследовав данные по запасам сырья в скважинах 3-х регионов мы обнаружили, что средний запас ресурсов по регионам недостаточен  для окупаемости вложений на разработку.\n",
    "\n",
    "Обучив модель Линейной регрессии и применив функцию bootstrap_1000 мы выполнили предсказания значений прибыли по регионам на основе 1000 выборок.\n",
    "\n",
    "Мы определили доверительный интервал получения прибыли в 95%, ограничив вероятность убытка значением 2,5%. Нашли наиболее перспективный регион для разработки 200 лучших скважин.\n",
    "\n",
    "По итогу, несмотря на относительно меньшие показатели запасов сырья в 27745.96 тыс.баррелей, вероятностью убыточности в 1.0%, наибольшая прибыль в 515.23 млн.рублей ожидается при разработки 200 скважин во 2 регионе."
   ]
  },
  {
   "cell_type": "code",
   "execution_count": null,
   "metadata": {},
   "outputs": [],
   "source": []
  }
 ],
 "metadata": {
  "ExecuteTimeLog": [
   {
    "duration": 1721,
    "start_time": "2023-08-27T07:24:00.220Z"
   },
   {
    "duration": 75,
    "start_time": "2023-08-27T07:24:01.944Z"
   },
   {
    "duration": 1620,
    "start_time": "2023-08-27T07:24:10.608Z"
   },
   {
    "duration": 15,
    "start_time": "2023-08-27T07:25:34.665Z"
   },
   {
    "duration": 17,
    "start_time": "2023-08-27T07:26:00.288Z"
   },
   {
    "duration": 37,
    "start_time": "2023-08-27T07:26:16.188Z"
   },
   {
    "duration": 17,
    "start_time": "2023-08-27T07:26:44.882Z"
   },
   {
    "duration": 111,
    "start_time": "2023-08-27T07:27:15.096Z"
   },
   {
    "duration": 56,
    "start_time": "2023-08-27T07:27:36.718Z"
   },
   {
    "duration": 10,
    "start_time": "2023-08-27T07:31:56.365Z"
   },
   {
    "duration": 16,
    "start_time": "2023-08-27T07:32:12.982Z"
   },
   {
    "duration": 15,
    "start_time": "2023-08-27T07:32:25.794Z"
   },
   {
    "duration": 35,
    "start_time": "2023-08-27T07:32:40.530Z"
   },
   {
    "duration": 15,
    "start_time": "2023-08-27T07:32:58.544Z"
   },
   {
    "duration": 10,
    "start_time": "2023-08-27T07:33:50.595Z"
   },
   {
    "duration": 35,
    "start_time": "2023-08-27T07:34:09.431Z"
   },
   {
    "duration": 17,
    "start_time": "2023-08-27T07:34:27.244Z"
   },
   {
    "duration": 13,
    "start_time": "2023-08-27T07:34:51.982Z"
   },
   {
    "duration": 1484,
    "start_time": "2023-08-27T07:42:27.336Z"
   },
   {
    "duration": 423,
    "start_time": "2023-08-27T07:42:28.822Z"
   },
   {
    "duration": 19,
    "start_time": "2023-08-27T07:42:29.247Z"
   },
   {
    "duration": 16,
    "start_time": "2023-08-27T07:42:29.267Z"
   },
   {
    "duration": 42,
    "start_time": "2023-08-27T07:42:29.286Z"
   },
   {
    "duration": 42,
    "start_time": "2023-08-27T07:42:29.329Z"
   },
   {
    "duration": 9,
    "start_time": "2023-08-27T07:42:29.373Z"
   },
   {
    "duration": 18,
    "start_time": "2023-08-27T07:42:29.384Z"
   },
   {
    "duration": 57,
    "start_time": "2023-08-27T07:42:29.403Z"
   },
   {
    "duration": 15,
    "start_time": "2023-08-27T07:42:29.461Z"
   },
   {
    "duration": 8,
    "start_time": "2023-08-27T07:42:29.478Z"
   },
   {
    "duration": 36,
    "start_time": "2023-08-27T07:42:29.488Z"
   },
   {
    "duration": 43,
    "start_time": "2023-08-27T07:42:29.526Z"
   },
   {
    "duration": 14,
    "start_time": "2023-08-27T07:42:29.571Z"
   },
   {
    "duration": 9559,
    "start_time": "2023-08-27T07:42:29.587Z"
   },
   {
    "duration": 267,
    "start_time": "2023-08-27T07:44:15.183Z"
   },
   {
    "duration": 244,
    "start_time": "2023-08-27T07:46:35.874Z"
   },
   {
    "duration": 264,
    "start_time": "2023-08-27T07:47:21.154Z"
   },
   {
    "duration": 353,
    "start_time": "2023-08-27T07:47:39.234Z"
   },
   {
    "duration": 14,
    "start_time": "2023-08-27T08:04:01.654Z"
   },
   {
    "duration": 14,
    "start_time": "2023-08-27T08:10:02.383Z"
   },
   {
    "duration": 19,
    "start_time": "2023-08-27T08:10:03.362Z"
   },
   {
    "duration": 21,
    "start_time": "2023-08-27T08:10:03.999Z"
   },
   {
    "duration": 124,
    "start_time": "2023-08-27T08:10:04.959Z"
   },
   {
    "duration": 20,
    "start_time": "2023-08-27T08:10:13.326Z"
   },
   {
    "duration": 21,
    "start_time": "2023-08-27T08:10:31.034Z"
   },
   {
    "duration": 21,
    "start_time": "2023-08-27T08:10:31.646Z"
   },
   {
    "duration": 20,
    "start_time": "2023-08-27T08:10:32.198Z"
   },
   {
    "duration": 36,
    "start_time": "2023-08-27T08:12:20.307Z"
   },
   {
    "duration": 1371,
    "start_time": "2023-08-27T08:13:06.112Z"
   },
   {
    "duration": 368,
    "start_time": "2023-08-27T08:13:07.485Z"
   },
   {
    "duration": 13,
    "start_time": "2023-08-27T08:13:07.855Z"
   },
   {
    "duration": 16,
    "start_time": "2023-08-27T08:13:07.870Z"
   },
   {
    "duration": 36,
    "start_time": "2023-08-27T08:13:07.889Z"
   },
   {
    "duration": 36,
    "start_time": "2023-08-27T08:13:07.927Z"
   },
   {
    "duration": 9,
    "start_time": "2023-08-27T08:13:07.965Z"
   },
   {
    "duration": 18,
    "start_time": "2023-08-27T08:13:07.976Z"
   },
   {
    "duration": 62,
    "start_time": "2023-08-27T08:13:07.995Z"
   },
   {
    "duration": 19,
    "start_time": "2023-08-27T08:13:08.060Z"
   },
   {
    "duration": 8,
    "start_time": "2023-08-27T08:13:08.081Z"
   },
   {
    "duration": 22,
    "start_time": "2023-08-27T08:13:08.091Z"
   },
   {
    "duration": 56,
    "start_time": "2023-08-27T08:13:08.115Z"
   },
   {
    "duration": 15,
    "start_time": "2023-08-27T08:13:08.173Z"
   },
   {
    "duration": 313,
    "start_time": "2023-08-27T08:13:08.190Z"
   },
   {
    "duration": 14,
    "start_time": "2023-08-27T08:13:08.505Z"
   },
   {
    "duration": 35,
    "start_time": "2023-08-27T08:13:08.521Z"
   },
   {
    "duration": 22,
    "start_time": "2023-08-27T08:13:08.558Z"
   },
   {
    "duration": 24,
    "start_time": "2023-08-27T08:13:08.582Z"
   },
   {
    "duration": 163,
    "start_time": "2023-08-27T08:13:08.608Z"
   },
   {
    "duration": 537,
    "start_time": "2023-08-27T08:17:21.833Z"
   },
   {
    "duration": 534,
    "start_time": "2023-08-27T08:17:22.373Z"
   },
   {
    "duration": 572,
    "start_time": "2023-08-27T08:17:23.505Z"
   },
   {
    "duration": 12,
    "start_time": "2023-08-27T08:17:25.305Z"
   },
   {
    "duration": 14,
    "start_time": "2023-08-27T08:17:26.733Z"
   },
   {
    "duration": 17,
    "start_time": "2023-08-27T08:17:29.774Z"
   },
   {
    "duration": 15,
    "start_time": "2023-08-27T08:17:30.257Z"
   },
   {
    "duration": 24,
    "start_time": "2023-08-27T08:17:31.833Z"
   },
   {
    "duration": 17,
    "start_time": "2023-08-27T08:18:27.929Z"
   },
   {
    "duration": 16,
    "start_time": "2023-08-27T08:18:51.830Z"
   },
   {
    "duration": 16,
    "start_time": "2023-08-27T08:18:52.700Z"
   },
   {
    "duration": 17,
    "start_time": "2023-08-27T08:18:55.191Z"
   },
   {
    "duration": 17,
    "start_time": "2023-08-27T08:18:56.116Z"
   },
   {
    "duration": 18,
    "start_time": "2023-08-27T08:18:57.088Z"
   },
   {
    "duration": 15,
    "start_time": "2023-08-27T08:19:34.388Z"
   },
   {
    "duration": 15,
    "start_time": "2023-08-27T08:19:37.775Z"
   },
   {
    "duration": 18,
    "start_time": "2023-08-27T08:19:41.508Z"
   },
   {
    "duration": 12,
    "start_time": "2023-08-27T08:22:10.093Z"
   },
   {
    "duration": 1397,
    "start_time": "2023-08-27T08:24:01.764Z"
   },
   {
    "duration": 368,
    "start_time": "2023-08-27T08:24:03.163Z"
   },
   {
    "duration": 14,
    "start_time": "2023-08-27T08:24:03.532Z"
   },
   {
    "duration": 30,
    "start_time": "2023-08-27T08:24:03.547Z"
   },
   {
    "duration": 39,
    "start_time": "2023-08-27T08:24:03.580Z"
   },
   {
    "duration": 15,
    "start_time": "2023-08-27T08:24:03.620Z"
   },
   {
    "duration": 34,
    "start_time": "2023-08-27T08:24:03.636Z"
   },
   {
    "duration": 23,
    "start_time": "2023-08-27T08:24:03.671Z"
   },
   {
    "duration": 37,
    "start_time": "2023-08-27T08:24:03.697Z"
   },
   {
    "duration": 28,
    "start_time": "2023-08-27T08:24:03.736Z"
   },
   {
    "duration": 12,
    "start_time": "2023-08-27T08:24:03.766Z"
   },
   {
    "duration": 47,
    "start_time": "2023-08-27T08:24:03.781Z"
   },
   {
    "duration": 38,
    "start_time": "2023-08-27T08:24:03.830Z"
   },
   {
    "duration": 14,
    "start_time": "2023-08-27T08:24:03.870Z"
   },
   {
    "duration": 275,
    "start_time": "2023-08-27T08:24:03.885Z"
   },
   {
    "duration": 549,
    "start_time": "2023-08-27T08:24:04.162Z"
   },
   {
    "duration": 513,
    "start_time": "2023-08-27T08:24:04.713Z"
   },
   {
    "duration": 516,
    "start_time": "2023-08-27T08:24:05.228Z"
   },
   {
    "duration": 14,
    "start_time": "2023-08-27T08:24:05.746Z"
   },
   {
    "duration": 24,
    "start_time": "2023-08-27T08:24:05.762Z"
   },
   {
    "duration": 17,
    "start_time": "2023-08-27T08:24:05.787Z"
   },
   {
    "duration": 16,
    "start_time": "2023-08-27T08:24:05.805Z"
   },
   {
    "duration": 39,
    "start_time": "2023-08-27T08:24:05.822Z"
   },
   {
    "duration": 198,
    "start_time": "2023-08-27T08:24:05.862Z"
   },
   {
    "duration": 103,
    "start_time": "2023-08-27T08:24:06.063Z"
   },
   {
    "duration": 190,
    "start_time": "2023-08-27T08:24:06.168Z"
   },
   {
    "duration": 13,
    "start_time": "2023-08-27T08:24:49.065Z"
   },
   {
    "duration": 14,
    "start_time": "2023-08-27T08:24:49.704Z"
   },
   {
    "duration": 15,
    "start_time": "2023-08-27T08:24:50.299Z"
   },
   {
    "duration": 19,
    "start_time": "2023-08-27T08:24:52.596Z"
   },
   {
    "duration": 17,
    "start_time": "2023-08-27T08:24:53.617Z"
   },
   {
    "duration": 17,
    "start_time": "2023-08-27T08:24:56.295Z"
   },
   {
    "duration": 17,
    "start_time": "2023-08-27T08:24:58.865Z"
   },
   {
    "duration": 113,
    "start_time": "2023-08-27T08:40:57.761Z"
   },
   {
    "duration": 6,
    "start_time": "2023-08-27T08:41:16.002Z"
   },
   {
    "duration": 4,
    "start_time": "2023-08-27T08:41:17.002Z"
   },
   {
    "duration": 10,
    "start_time": "2023-08-27T08:42:24.664Z"
   },
   {
    "duration": 12,
    "start_time": "2023-08-27T08:42:40.200Z"
   },
   {
    "duration": 6,
    "start_time": "2023-08-27T08:42:44.220Z"
   },
   {
    "duration": 3,
    "start_time": "2023-08-27T08:42:45.032Z"
   },
   {
    "duration": 4,
    "start_time": "2023-08-27T08:42:45.787Z"
   },
   {
    "duration": 7,
    "start_time": "2023-08-27T08:43:23.339Z"
   },
   {
    "duration": 4,
    "start_time": "2023-08-27T08:43:49.887Z"
   },
   {
    "duration": 2,
    "start_time": "2023-08-27T08:43:50.471Z"
   },
   {
    "duration": 4,
    "start_time": "2023-08-27T08:46:33.738Z"
   },
   {
    "duration": 4,
    "start_time": "2023-08-27T08:46:50.619Z"
   },
   {
    "duration": 4,
    "start_time": "2023-08-27T08:47:09.099Z"
   },
   {
    "duration": 3,
    "start_time": "2023-08-27T08:47:10.300Z"
   },
   {
    "duration": 3,
    "start_time": "2023-08-27T08:47:10.928Z"
   },
   {
    "duration": 14,
    "start_time": "2023-08-27T08:48:16.200Z"
   },
   {
    "duration": 15,
    "start_time": "2023-08-27T08:49:08.444Z"
   },
   {
    "duration": 12,
    "start_time": "2023-08-27T08:50:14.557Z"
   },
   {
    "duration": 11,
    "start_time": "2023-08-27T08:50:25.391Z"
   },
   {
    "duration": 4,
    "start_time": "2023-08-27T08:50:36.901Z"
   },
   {
    "duration": 11,
    "start_time": "2023-08-27T08:51:51.863Z"
   },
   {
    "duration": 16,
    "start_time": "2023-08-27T08:51:52.821Z"
   },
   {
    "duration": 3,
    "start_time": "2023-08-27T08:51:53.690Z"
   },
   {
    "duration": 13,
    "start_time": "2023-08-27T08:52:52.290Z"
   },
   {
    "duration": 13,
    "start_time": "2023-08-27T08:52:53.110Z"
   },
   {
    "duration": 4,
    "start_time": "2023-08-27T08:52:53.872Z"
   },
   {
    "duration": 4,
    "start_time": "2023-08-27T08:53:47.306Z"
   },
   {
    "duration": 4,
    "start_time": "2023-08-27T08:54:06.683Z"
   },
   {
    "duration": 4,
    "start_time": "2023-08-27T08:54:18.383Z"
   },
   {
    "duration": 10,
    "start_time": "2023-08-27T08:58:40.014Z"
   },
   {
    "duration": 3,
    "start_time": "2023-08-27T08:59:52.790Z"
   },
   {
    "duration": 5,
    "start_time": "2023-08-27T09:00:55.051Z"
   },
   {
    "duration": 4,
    "start_time": "2023-08-27T09:01:08.658Z"
   },
   {
    "duration": 5,
    "start_time": "2023-08-27T09:01:43.421Z"
   },
   {
    "duration": 4,
    "start_time": "2023-08-27T09:02:44.561Z"
   },
   {
    "duration": 6,
    "start_time": "2023-08-27T09:04:32.520Z"
   },
   {
    "duration": 7,
    "start_time": "2023-08-27T09:04:40.060Z"
   },
   {
    "duration": 7,
    "start_time": "2023-08-27T09:05:55.660Z"
   },
   {
    "duration": 7,
    "start_time": "2023-08-27T09:05:56.180Z"
   },
   {
    "duration": 7,
    "start_time": "2023-08-27T09:05:56.751Z"
   },
   {
    "duration": 2,
    "start_time": "2023-08-27T09:08:07.019Z"
   },
   {
    "duration": 3,
    "start_time": "2023-08-27T09:10:07.855Z"
   },
   {
    "duration": 7,
    "start_time": "2023-08-27T09:11:17.951Z"
   },
   {
    "duration": 7,
    "start_time": "2023-08-27T09:11:31.366Z"
   },
   {
    "duration": 7,
    "start_time": "2023-08-27T09:12:36.382Z"
   },
   {
    "duration": 1482,
    "start_time": "2023-08-27T09:12:53.957Z"
   },
   {
    "duration": 1500,
    "start_time": "2023-08-27T09:14:09.844Z"
   },
   {
    "duration": 1665,
    "start_time": "2023-08-27T09:15:02.193Z"
   },
   {
    "duration": 15,
    "start_time": "2023-08-27T09:22:08.846Z"
   },
   {
    "duration": 13,
    "start_time": "2023-08-27T09:24:08.629Z"
   },
   {
    "duration": 1397,
    "start_time": "2023-08-27T09:39:28.997Z"
   },
   {
    "duration": 394,
    "start_time": "2023-08-27T09:39:30.396Z"
   },
   {
    "duration": 14,
    "start_time": "2023-08-27T09:39:30.792Z"
   },
   {
    "duration": 61,
    "start_time": "2023-08-27T09:39:30.808Z"
   },
   {
    "duration": 50,
    "start_time": "2023-08-27T09:39:30.872Z"
   },
   {
    "duration": 17,
    "start_time": "2023-08-27T09:39:30.924Z"
   },
   {
    "duration": 28,
    "start_time": "2023-08-27T09:39:30.942Z"
   },
   {
    "duration": 34,
    "start_time": "2023-08-27T09:39:30.972Z"
   },
   {
    "duration": 66,
    "start_time": "2023-08-27T09:39:31.008Z"
   },
   {
    "duration": 16,
    "start_time": "2023-08-27T09:39:31.076Z"
   },
   {
    "duration": 22,
    "start_time": "2023-08-27T09:39:31.093Z"
   },
   {
    "duration": 56,
    "start_time": "2023-08-27T09:39:31.117Z"
   },
   {
    "duration": 44,
    "start_time": "2023-08-27T09:39:31.175Z"
   },
   {
    "duration": 16,
    "start_time": "2023-08-27T09:39:31.222Z"
   },
   {
    "duration": 276,
    "start_time": "2023-08-27T09:39:31.239Z"
   },
   {
    "duration": 529,
    "start_time": "2023-08-27T09:39:31.517Z"
   },
   {
    "duration": 515,
    "start_time": "2023-08-27T09:39:32.048Z"
   },
   {
    "duration": 521,
    "start_time": "2023-08-27T09:39:32.565Z"
   },
   {
    "duration": 12,
    "start_time": "2023-08-27T09:39:33.088Z"
   },
   {
    "duration": 20,
    "start_time": "2023-08-27T09:39:33.102Z"
   },
   {
    "duration": 33,
    "start_time": "2023-08-27T09:39:33.124Z"
   },
   {
    "duration": 17,
    "start_time": "2023-08-27T09:39:33.158Z"
   },
   {
    "duration": 36,
    "start_time": "2023-08-27T09:39:33.176Z"
   },
   {
    "duration": 106,
    "start_time": "2023-08-27T09:39:33.259Z"
   },
   {
    "duration": 190,
    "start_time": "2023-08-27T09:39:33.367Z"
   },
   {
    "duration": 99,
    "start_time": "2023-08-27T09:39:33.559Z"
   },
   {
    "duration": 13,
    "start_time": "2023-08-27T09:39:33.659Z"
   },
   {
    "duration": 4,
    "start_time": "2023-08-27T09:39:33.673Z"
   },
   {
    "duration": 10,
    "start_time": "2023-08-27T09:39:33.679Z"
   },
   {
    "duration": 6,
    "start_time": "2023-08-27T09:39:33.690Z"
   },
   {
    "duration": 14,
    "start_time": "2023-08-27T09:39:33.698Z"
   },
   {
    "duration": 12,
    "start_time": "2023-08-27T09:39:33.714Z"
   },
   {
    "duration": 3,
    "start_time": "2023-08-27T09:39:33.727Z"
   },
   {
    "duration": 36,
    "start_time": "2023-08-27T09:39:33.732Z"
   },
   {
    "duration": 29,
    "start_time": "2023-08-27T09:39:33.770Z"
   },
   {
    "duration": 4,
    "start_time": "2023-08-27T09:39:33.801Z"
   },
   {
    "duration": 17,
    "start_time": "2023-08-27T09:39:33.806Z"
   },
   {
    "duration": 13,
    "start_time": "2023-08-27T09:39:33.824Z"
   },
   {
    "duration": 19,
    "start_time": "2023-08-27T09:39:33.839Z"
   },
   {
    "duration": 27,
    "start_time": "2023-08-27T09:39:33.860Z"
   },
   {
    "duration": 4,
    "start_time": "2023-08-27T09:39:33.890Z"
   },
   {
    "duration": 26,
    "start_time": "2023-08-27T09:39:33.896Z"
   },
   {
    "duration": 14,
    "start_time": "2023-08-27T09:39:33.924Z"
   },
   {
    "duration": 8,
    "start_time": "2023-08-27T09:39:33.940Z"
   },
   {
    "duration": 11,
    "start_time": "2023-08-27T09:39:33.949Z"
   },
   {
    "duration": 10,
    "start_time": "2023-08-27T09:39:33.961Z"
   },
   {
    "duration": 11,
    "start_time": "2023-08-27T09:39:33.973Z"
   },
   {
    "duration": 1461,
    "start_time": "2023-08-27T09:39:33.985Z"
   },
   {
    "duration": 1542,
    "start_time": "2023-08-27T09:39:35.448Z"
   },
   {
    "duration": 1596,
    "start_time": "2023-08-27T09:39:36.992Z"
   },
   {
    "duration": 11,
    "start_time": "2023-08-27T09:39:38.590Z"
   },
   {
    "duration": 24,
    "start_time": "2023-08-27T13:19:46.908Z"
   },
   {
    "duration": 1600,
    "start_time": "2023-08-27T13:20:37.222Z"
   },
   {
    "duration": 507,
    "start_time": "2023-08-27T13:20:38.826Z"
   },
   {
    "duration": 24,
    "start_time": "2023-08-27T13:20:39.335Z"
   },
   {
    "duration": 26,
    "start_time": "2023-08-27T13:20:39.364Z"
   },
   {
    "duration": 46,
    "start_time": "2023-08-27T13:20:39.394Z"
   },
   {
    "duration": 49,
    "start_time": "2023-08-27T13:20:39.442Z"
   },
   {
    "duration": 14,
    "start_time": "2023-08-27T13:20:39.500Z"
   },
   {
    "duration": 30,
    "start_time": "2023-08-27T13:20:39.516Z"
   },
   {
    "duration": 46,
    "start_time": "2023-08-27T13:20:39.548Z"
   },
   {
    "duration": 20,
    "start_time": "2023-08-27T13:20:39.595Z"
   },
   {
    "duration": 11,
    "start_time": "2023-08-27T13:20:39.617Z"
   },
   {
    "duration": 53,
    "start_time": "2023-08-27T13:20:39.629Z"
   },
   {
    "duration": 49,
    "start_time": "2023-08-27T13:20:39.689Z"
   },
   {
    "duration": 18,
    "start_time": "2023-08-27T13:20:39.741Z"
   },
   {
    "duration": 319,
    "start_time": "2023-08-27T13:20:39.765Z"
   },
   {
    "duration": 13,
    "start_time": "2023-08-27T13:20:40.090Z"
   },
   {
    "duration": 28,
    "start_time": "2023-08-27T13:20:40.109Z"
   },
   {
    "duration": 19,
    "start_time": "2023-08-27T13:20:40.140Z"
   },
   {
    "duration": 30,
    "start_time": "2023-08-27T13:20:40.167Z"
   },
   {
    "duration": 25,
    "start_time": "2023-08-27T13:20:40.198Z"
   },
   {
    "duration": 147,
    "start_time": "2023-08-27T13:20:40.225Z"
   },
   {
    "duration": 101,
    "start_time": "2023-08-27T13:20:40.381Z"
   },
   {
    "duration": 89,
    "start_time": "2023-08-27T13:20:40.498Z"
   },
   {
    "duration": 13,
    "start_time": "2023-08-27T13:20:40.589Z"
   },
   {
    "duration": 8,
    "start_time": "2023-08-27T13:20:40.610Z"
   },
   {
    "duration": 5,
    "start_time": "2023-08-27T13:20:40.620Z"
   },
   {
    "duration": 20,
    "start_time": "2023-08-27T13:20:40.626Z"
   },
   {
    "duration": 40,
    "start_time": "2023-08-27T13:20:40.648Z"
   },
   {
    "duration": 33,
    "start_time": "2023-08-27T13:20:40.690Z"
   },
   {
    "duration": 4,
    "start_time": "2023-08-27T13:20:40.729Z"
   },
   {
    "duration": 23,
    "start_time": "2023-08-27T13:20:40.735Z"
   },
   {
    "duration": 16,
    "start_time": "2023-08-27T13:20:40.760Z"
   },
   {
    "duration": 4,
    "start_time": "2023-08-27T13:20:40.778Z"
   },
   {
    "duration": 34,
    "start_time": "2023-08-27T13:20:40.788Z"
   },
   {
    "duration": 19,
    "start_time": "2023-08-27T13:20:40.823Z"
   },
   {
    "duration": 5,
    "start_time": "2023-08-27T13:20:40.843Z"
   },
   {
    "duration": 42,
    "start_time": "2023-08-27T13:20:40.850Z"
   },
   {
    "duration": 15,
    "start_time": "2023-08-27T13:20:40.896Z"
   },
   {
    "duration": 8,
    "start_time": "2023-08-27T13:20:40.921Z"
   },
   {
    "duration": 48,
    "start_time": "2023-08-27T13:20:40.931Z"
   },
   {
    "duration": 10,
    "start_time": "2023-08-27T13:20:40.985Z"
   },
   {
    "duration": 17,
    "start_time": "2023-08-27T13:20:40.997Z"
   },
   {
    "duration": 5,
    "start_time": "2023-08-27T13:20:41.016Z"
   },
   {
    "duration": 8,
    "start_time": "2023-08-27T13:20:41.024Z"
   },
   {
    "duration": 1910,
    "start_time": "2023-08-27T13:20:41.033Z"
   },
   {
    "duration": 1821,
    "start_time": "2023-08-27T13:20:42.945Z"
   },
   {
    "duration": 1865,
    "start_time": "2023-08-27T13:20:44.768Z"
   },
   {
    "duration": 28,
    "start_time": "2023-08-27T13:20:46.635Z"
   },
   {
    "duration": 12,
    "start_time": "2023-08-27T13:24:25.991Z"
   },
   {
    "duration": 1586,
    "start_time": "2023-08-27T13:24:42.518Z"
   },
   {
    "duration": 460,
    "start_time": "2023-08-27T13:24:44.106Z"
   },
   {
    "duration": 19,
    "start_time": "2023-08-27T13:24:44.568Z"
   },
   {
    "duration": 21,
    "start_time": "2023-08-27T13:24:44.589Z"
   },
   {
    "duration": 82,
    "start_time": "2023-08-27T13:24:44.612Z"
   },
   {
    "duration": 21,
    "start_time": "2023-08-27T13:24:44.699Z"
   },
   {
    "duration": 10,
    "start_time": "2023-08-27T13:24:44.722Z"
   },
   {
    "duration": 19,
    "start_time": "2023-08-27T13:24:44.733Z"
   },
   {
    "duration": 51,
    "start_time": "2023-08-27T13:24:44.754Z"
   },
   {
    "duration": 20,
    "start_time": "2023-08-27T13:24:44.808Z"
   },
   {
    "duration": 13,
    "start_time": "2023-08-27T13:24:44.830Z"
   },
   {
    "duration": 42,
    "start_time": "2023-08-27T13:24:44.865Z"
   },
   {
    "duration": 41,
    "start_time": "2023-08-27T13:24:44.909Z"
   },
   {
    "duration": 25,
    "start_time": "2023-08-27T13:24:44.953Z"
   },
   {
    "duration": 342,
    "start_time": "2023-08-27T13:24:44.982Z"
   },
   {
    "duration": 11,
    "start_time": "2023-08-27T13:24:45.326Z"
   },
   {
    "duration": 44,
    "start_time": "2023-08-27T13:24:45.339Z"
   },
   {
    "duration": 29,
    "start_time": "2023-08-27T13:24:45.388Z"
   },
   {
    "duration": 17,
    "start_time": "2023-08-27T13:24:45.418Z"
   },
   {
    "duration": 120,
    "start_time": "2023-08-27T13:24:45.437Z"
   },
   {
    "duration": 110,
    "start_time": "2023-08-27T13:24:45.559Z"
   },
   {
    "duration": 126,
    "start_time": "2023-08-27T13:24:45.671Z"
   },
   {
    "duration": 63,
    "start_time": "2023-08-27T13:24:45.802Z"
   },
   {
    "duration": 11,
    "start_time": "2023-08-27T13:24:45.866Z"
   },
   {
    "duration": 93,
    "start_time": "2023-08-27T13:24:45.879Z"
   },
   {
    "duration": 13,
    "start_time": "2023-08-27T13:24:45.974Z"
   },
   {
    "duration": 4,
    "start_time": "2023-08-27T13:24:45.989Z"
   },
   {
    "duration": 13,
    "start_time": "2023-08-27T13:24:45.995Z"
   },
   {
    "duration": 14,
    "start_time": "2023-08-27T13:24:46.009Z"
   },
   {
    "duration": 3,
    "start_time": "2023-08-27T13:24:46.025Z"
   },
   {
    "duration": 13,
    "start_time": "2023-08-27T13:24:46.030Z"
   },
   {
    "duration": 27,
    "start_time": "2023-08-27T13:24:46.044Z"
   },
   {
    "duration": 8,
    "start_time": "2023-08-27T13:24:46.073Z"
   },
   {
    "duration": 15,
    "start_time": "2023-08-27T13:24:46.083Z"
   },
   {
    "duration": 13,
    "start_time": "2023-08-27T13:24:46.100Z"
   },
   {
    "duration": 4,
    "start_time": "2023-08-27T13:24:46.114Z"
   },
   {
    "duration": 17,
    "start_time": "2023-08-27T13:24:46.120Z"
   },
   {
    "duration": 23,
    "start_time": "2023-08-27T13:24:46.139Z"
   },
   {
    "duration": 23,
    "start_time": "2023-08-27T13:24:46.164Z"
   },
   {
    "duration": 29,
    "start_time": "2023-08-27T13:24:46.189Z"
   },
   {
    "duration": 7,
    "start_time": "2023-08-27T13:24:46.223Z"
   },
   {
    "duration": 9,
    "start_time": "2023-08-27T13:24:46.232Z"
   },
   {
    "duration": 3,
    "start_time": "2023-08-27T13:24:46.243Z"
   },
   {
    "duration": 19,
    "start_time": "2023-08-27T13:24:46.248Z"
   },
   {
    "duration": 1669,
    "start_time": "2023-08-27T13:24:46.272Z"
   },
   {
    "duration": 1748,
    "start_time": "2023-08-27T13:24:47.943Z"
   },
   {
    "duration": 1696,
    "start_time": "2023-08-27T13:24:49.697Z"
   },
   {
    "duration": 12,
    "start_time": "2023-08-27T13:24:51.395Z"
   },
   {
    "duration": 1647,
    "start_time": "2024-12-02T17:52:12.096Z"
   },
   {
    "duration": 996,
    "start_time": "2024-12-02T17:52:13.745Z"
   },
   {
    "duration": 15,
    "start_time": "2024-12-02T17:52:14.743Z"
   },
   {
    "duration": 18,
    "start_time": "2024-12-02T17:52:14.760Z"
   },
   {
    "duration": 47,
    "start_time": "2024-12-02T17:52:14.779Z"
   },
   {
    "duration": 16,
    "start_time": "2024-12-02T17:52:14.827Z"
   },
   {
    "duration": 9,
    "start_time": "2024-12-02T17:52:14.845Z"
   },
   {
    "duration": 80,
    "start_time": "2024-12-02T17:52:14.855Z"
   },
   {
    "duration": 38,
    "start_time": "2024-12-02T17:52:14.936Z"
   },
   {
    "duration": 14,
    "start_time": "2024-12-02T17:52:14.977Z"
   },
   {
    "duration": 9,
    "start_time": "2024-12-02T17:52:14.993Z"
   },
   {
    "duration": 26,
    "start_time": "2024-12-02T17:52:15.021Z"
   },
   {
    "duration": 79,
    "start_time": "2024-12-02T17:52:15.049Z"
   },
   {
    "duration": 21,
    "start_time": "2024-12-02T17:52:15.130Z"
   },
   {
    "duration": 385,
    "start_time": "2024-12-02T17:52:15.153Z"
   },
   {
    "duration": 12,
    "start_time": "2024-12-02T17:52:15.539Z"
   },
   {
    "duration": 18,
    "start_time": "2024-12-02T17:52:15.552Z"
   },
   {
    "duration": 16,
    "start_time": "2024-12-02T17:52:15.572Z"
   },
   {
    "duration": 39,
    "start_time": "2024-12-02T17:52:15.590Z"
   },
   {
    "duration": 99,
    "start_time": "2024-12-02T17:52:15.631Z"
   },
   {
    "duration": 103,
    "start_time": "2024-12-02T17:52:15.732Z"
   },
   {
    "duration": 112,
    "start_time": "2024-12-02T17:52:15.921Z"
   },
   {
    "duration": 189,
    "start_time": "2024-12-02T17:52:16.035Z"
   },
   {
    "duration": 76,
    "start_time": "2024-12-02T17:52:16.226Z"
   },
   {
    "duration": 57,
    "start_time": "2024-12-02T17:52:16.303Z"
   },
   {
    "duration": 5,
    "start_time": "2024-12-02T17:52:16.363Z"
   },
   {
    "duration": 5,
    "start_time": "2024-12-02T17:52:16.369Z"
   },
   {
    "duration": 17,
    "start_time": "2024-12-02T17:52:16.378Z"
   },
   {
    "duration": 16,
    "start_time": "2024-12-02T17:52:16.397Z"
   },
   {
    "duration": 30,
    "start_time": "2024-12-02T17:52:16.415Z"
   },
   {
    "duration": 25,
    "start_time": "2024-12-02T17:52:16.446Z"
   },
   {
    "duration": 37,
    "start_time": "2024-12-02T17:52:16.473Z"
   },
   {
    "duration": 21,
    "start_time": "2024-12-02T17:52:16.511Z"
   },
   {
    "duration": 23,
    "start_time": "2024-12-02T17:52:16.533Z"
   },
   {
    "duration": 19,
    "start_time": "2024-12-02T17:52:16.557Z"
   },
   {
    "duration": 18,
    "start_time": "2024-12-02T17:52:16.578Z"
   },
   {
    "duration": 46,
    "start_time": "2024-12-02T17:52:16.598Z"
   },
   {
    "duration": 38,
    "start_time": "2024-12-02T17:52:16.645Z"
   },
   {
    "duration": 32,
    "start_time": "2024-12-02T17:52:16.685Z"
   },
   {
    "duration": 35,
    "start_time": "2024-12-02T17:52:16.719Z"
   },
   {
    "duration": 31,
    "start_time": "2024-12-02T17:52:16.756Z"
   },
   {
    "duration": 16,
    "start_time": "2024-12-02T17:52:16.789Z"
   },
   {
    "duration": 34,
    "start_time": "2024-12-02T17:52:16.806Z"
   },
   {
    "duration": 62,
    "start_time": "2024-12-02T17:52:16.841Z"
   },
   {
    "duration": 908,
    "start_time": "2024-12-02T17:52:16.904Z"
   },
   {
    "duration": 0,
    "start_time": "2024-12-02T17:52:17.815Z"
   },
   {
    "duration": 0,
    "start_time": "2024-12-02T17:52:17.816Z"
   },
   {
    "duration": 0,
    "start_time": "2024-12-02T17:52:17.820Z"
   },
   {
    "duration": 8,
    "start_time": "2024-12-02T17:54:33.322Z"
   },
   {
    "duration": 1526,
    "start_time": "2024-12-02T17:54:58.740Z"
   },
   {
    "duration": 423,
    "start_time": "2024-12-02T17:55:00.268Z"
   },
   {
    "duration": 14,
    "start_time": "2024-12-02T17:55:00.692Z"
   },
   {
    "duration": 47,
    "start_time": "2024-12-02T17:55:00.709Z"
   },
   {
    "duration": 52,
    "start_time": "2024-12-02T17:55:00.758Z"
   },
   {
    "duration": 18,
    "start_time": "2024-12-02T17:55:00.812Z"
   },
   {
    "duration": 26,
    "start_time": "2024-12-02T17:55:00.832Z"
   },
   {
    "duration": 95,
    "start_time": "2024-12-02T17:55:00.860Z"
   },
   {
    "duration": 67,
    "start_time": "2024-12-02T17:55:00.957Z"
   },
   {
    "duration": 16,
    "start_time": "2024-12-02T17:55:01.027Z"
   },
   {
    "duration": 28,
    "start_time": "2024-12-02T17:55:01.045Z"
   },
   {
    "duration": 58,
    "start_time": "2024-12-02T17:55:01.075Z"
   },
   {
    "duration": 54,
    "start_time": "2024-12-02T17:55:01.136Z"
   },
   {
    "duration": 15,
    "start_time": "2024-12-02T17:55:01.193Z"
   },
   {
    "duration": 428,
    "start_time": "2024-12-02T17:55:01.210Z"
   },
   {
    "duration": 10,
    "start_time": "2024-12-02T17:55:01.639Z"
   },
   {
    "duration": 66,
    "start_time": "2024-12-02T17:55:01.650Z"
   },
   {
    "duration": 86,
    "start_time": "2024-12-02T17:55:01.718Z"
   },
   {
    "duration": 175,
    "start_time": "2024-12-02T17:55:01.807Z"
   },
   {
    "duration": 198,
    "start_time": "2024-12-02T17:55:01.984Z"
   },
   {
    "duration": 150,
    "start_time": "2024-12-02T17:55:02.184Z"
   },
   {
    "duration": 207,
    "start_time": "2024-12-02T17:55:02.337Z"
   },
   {
    "duration": 176,
    "start_time": "2024-12-02T17:55:02.546Z"
   },
   {
    "duration": 5,
    "start_time": "2024-12-02T17:55:02.723Z"
   },
   {
    "duration": 52,
    "start_time": "2024-12-02T17:55:02.729Z"
   },
   {
    "duration": 135,
    "start_time": "2024-12-02T17:55:02.783Z"
   },
   {
    "duration": 49,
    "start_time": "2024-12-02T17:55:02.919Z"
   },
   {
    "duration": 101,
    "start_time": "2024-12-02T17:55:02.972Z"
   },
   {
    "duration": 143,
    "start_time": "2024-12-02T17:55:03.074Z"
   },
   {
    "duration": 166,
    "start_time": "2024-12-02T17:55:03.219Z"
   },
   {
    "duration": 39,
    "start_time": "2024-12-02T17:55:03.387Z"
   },
   {
    "duration": 33,
    "start_time": "2024-12-02T17:55:03.427Z"
   },
   {
    "duration": 30,
    "start_time": "2024-12-02T17:55:03.461Z"
   },
   {
    "duration": 52,
    "start_time": "2024-12-02T17:55:03.493Z"
   },
   {
    "duration": 13,
    "start_time": "2024-12-02T17:55:03.547Z"
   },
   {
    "duration": 49,
    "start_time": "2024-12-02T17:55:03.562Z"
   },
   {
    "duration": 51,
    "start_time": "2024-12-02T17:55:03.612Z"
   },
   {
    "duration": 23,
    "start_time": "2024-12-02T17:55:03.664Z"
   },
   {
    "duration": 51,
    "start_time": "2024-12-02T17:55:03.689Z"
   },
   {
    "duration": 36,
    "start_time": "2024-12-02T17:55:03.742Z"
   },
   {
    "duration": 53,
    "start_time": "2024-12-02T17:55:03.780Z"
   },
   {
    "duration": 117,
    "start_time": "2024-12-02T17:55:03.835Z"
   },
   {
    "duration": 43,
    "start_time": "2024-12-02T17:55:03.954Z"
   },
   {
    "duration": 48,
    "start_time": "2024-12-02T17:55:03.999Z"
   },
   {
    "duration": 901,
    "start_time": "2024-12-02T17:55:04.049Z"
   },
   {
    "duration": 0,
    "start_time": "2024-12-02T17:55:04.951Z"
   },
   {
    "duration": 0,
    "start_time": "2024-12-02T17:55:04.953Z"
   },
   {
    "duration": 0,
    "start_time": "2024-12-02T17:55:04.954Z"
   },
   {
    "duration": 4,
    "start_time": "2024-12-02T17:57:12.237Z"
   },
   {
    "duration": 16,
    "start_time": "2024-12-02T17:57:14.052Z"
   },
   {
    "duration": 4,
    "start_time": "2024-12-02T18:02:01.338Z"
   },
   {
    "duration": 9,
    "start_time": "2024-12-02T18:02:02.737Z"
   },
   {
    "duration": 8,
    "start_time": "2024-12-02T18:02:10.841Z"
   },
   {
    "duration": 5,
    "start_time": "2024-12-02T18:02:43.752Z"
   },
   {
    "duration": 7,
    "start_time": "2024-12-02T18:02:45.392Z"
   },
   {
    "duration": 7,
    "start_time": "2024-12-02T18:02:48.688Z"
   },
   {
    "duration": 8,
    "start_time": "2024-12-02T18:03:00.363Z"
   },
   {
    "duration": 3,
    "start_time": "2024-12-02T18:03:01.981Z"
   },
   {
    "duration": 8,
    "start_time": "2024-12-02T18:03:03.389Z"
   },
   {
    "duration": 768,
    "start_time": "2024-12-02T18:03:05.086Z"
   },
   {
    "duration": 12,
    "start_time": "2024-12-02T18:07:17.234Z"
   },
   {
    "duration": 882,
    "start_time": "2024-12-02T18:07:20.195Z"
   },
   {
    "duration": 7,
    "start_time": "2024-12-02T18:07:59.683Z"
   },
   {
    "duration": 1606,
    "start_time": "2024-12-02T18:08:01.889Z"
   },
   {
    "duration": 5,
    "start_time": "2024-12-02T18:09:13.788Z"
   },
   {
    "duration": 8,
    "start_time": "2024-12-02T18:09:15.830Z"
   },
   {
    "duration": 8,
    "start_time": "2024-12-02T18:09:17.664Z"
   },
   {
    "duration": 7,
    "start_time": "2024-12-02T18:09:18.524Z"
   },
   {
    "duration": 5,
    "start_time": "2024-12-02T18:09:25.411Z"
   },
   {
    "duration": 7,
    "start_time": "2024-12-02T18:09:27.503Z"
   },
   {
    "duration": 1747,
    "start_time": "2024-12-02T18:09:30.894Z"
   }
  ],
  "kernelspec": {
   "display_name": "Python 3 (ipykernel)",
   "language": "python",
   "name": "python3"
  },
  "language_info": {
   "codemirror_mode": {
    "name": "ipython",
    "version": 3
   },
   "file_extension": ".py",
   "mimetype": "text/x-python",
   "name": "python",
   "nbconvert_exporter": "python",
   "pygments_lexer": "ipython3",
   "version": "3.9.5"
  },
  "toc": {
   "base_numbering": 1,
   "nav_menu": {},
   "number_sections": true,
   "sideBar": true,
   "skip_h1_title": true,
   "title_cell": "Table of Contents",
   "title_sidebar": "Contents",
   "toc_cell": false,
   "toc_position": {},
   "toc_section_display": true,
   "toc_window_display": false
  }
 },
 "nbformat": 4,
 "nbformat_minor": 2
}
